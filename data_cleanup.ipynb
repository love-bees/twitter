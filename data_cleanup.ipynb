{
  "nbformat": 4,
  "nbformat_minor": 0,
  "metadata": {
    "colab": {
      "name": "data_cleanup.ipynb",
      "provenance": [],
      "authorship_tag": "ABX9TyMW1UC2u9RJB9A8fECeRu3P",
      "include_colab_link": true
    },
    "kernelspec": {
      "name": "python3",
      "display_name": "Python 3"
    }
  },
  "cells": [
    {
      "cell_type": "markdown",
      "metadata": {
        "id": "view-in-github",
        "colab_type": "text"
      },
      "source": [
        "<a href=\"https://colab.research.google.com/github/love-bees/twitter/blob/master/data_cleanup.ipynb\" target=\"_parent\"><img src=\"https://colab.research.google.com/assets/colab-badge.svg\" alt=\"Open In Colab\"/></a>"
      ]
    },
    {
      "cell_type": "code",
      "metadata": {
        "id": "77ChrzIkrIvo",
        "colab_type": "code",
        "colab": {}
      },
      "source": [
        "import pandas as pd\n",
        "\n",
        "data = pd.read_csv('data.csv', encoding='utf-8')\n",
        "data.columns = ['id', 'time', 'geo', 'lang', 'hashtags', 'text']"
      ],
      "execution_count": null,
      "outputs": []
    },
    {
      "cell_type": "code",
      "metadata": {
        "id": "i0HntaOqrKQi",
        "colab_type": "code",
        "colab": {}
      },
      "source": [
        "import matplotlib.pyplot as plt\n",
        "import seaborn as sns\n",
        "\n",
        "sns.set_style('darkgrid')\n",
        "\n",
        "x = data['lang'].value_counts(1).head(15)\n",
        "x.plot(kind='bar',figsize=(10,6),fontsize=13,color='C1')\n",
        "plt.title('Jezik Tvitera procentualno', fontsize=16)\n",
        "plt.ylabel('% od svih Tvitova', fontsize=13)\n",
        "plt.xlabel('Jezik', fontsize=13)"
      ],
      "execution_count": null,
      "outputs": []
    },
    {
      "cell_type": "markdown",
      "metadata": {
        "id": "itZKUuYor62f",
        "colab_type": "text"
      },
      "source": [
        "Sređivanje podataka"
      ]
    },
    {
      "cell_type": "code",
      "metadata": {
        "id": "AAyAqML7rKNQ",
        "colab_type": "code",
        "colab": {}
      },
      "source": [
        "#izdvajanje podataka koji su samo na engleskom\n",
        "text = []\n",
        "date = []\n",
        "hashes = []\n",
        "geo = []\n",
        "for i, item in enumerate(data['lang']):\n",
        "    if data['lang'][i] == 'en':\n",
        "        text.append(data['text'][i])\n",
        "        date.append(data['time'][i])\n",
        "        hashes.append(data['hashtags'][i])\n",
        "        geo.append(data['geo'][i])"
      ],
      "execution_count": null,
      "outputs": []
    },
    {
      "cell_type": "code",
      "metadata": {
        "id": "xApqOpZorKJ0",
        "colab_type": "code",
        "colab": {}
      },
      "source": [
        "import re\n",
        "\n",
        "#prečišćavanje podataka\n",
        "for i in range(len(text)):\n",
        "    try:\n",
        "        text[i] = bytes(text[i][2:-2], 'utf-8').decode('unicode_escape')\n",
        "        hashes[i] = bytes(hashes[i][2:-1], 'utf-8').decode('unicode_escape')\n",
        "        text[i] = text[i][:text[i].index('https://t.co/')]\n",
        "        text[i] = text[i].replace(\"\\n\", '')\n",
        "        text[i] = re.sub(r'[^\\x00-\\x7F]+','', text[i])\n",
        "    except:\n",
        "        continue"
      ],
      "execution_count": null,
      "outputs": []
    },
    {
      "cell_type": "code",
      "metadata": {
        "id": "sIKgZWs0rKFz",
        "colab_type": "code",
        "colab": {}
      },
      "source": [
        "#pretvaranje u dataframe\n",
        "df = pd.DataFrame(columns=['datetime','coordinates','hashes', 'text'])\n",
        "df['datetime'], df['coordinates'],df['hashes'], df['text'] = [date, geo, hashes, text]\n",
        "df.head()"
      ],
      "execution_count": null,
      "outputs": []
    },
    {
      "cell_type": "markdown",
      "metadata": {
        "id": "0dNo9DeSr0sT",
        "colab_type": "text"
      },
      "source": [
        "Sentiment"
      ]
    },
    {
      "cell_type": "code",
      "metadata": {
        "id": "tvZ8eVuYrnUV",
        "colab_type": "code",
        "colab": {}
      },
      "source": [
        "from nltk.sentiment.vader import SentimentIntensityAnalyzer\n",
        "\n",
        "def sentiment_score(text):\n",
        "    analysis = analyzer.polarity_scores(text)\n",
        "    return analysis['compound']\n",
        "\n",
        "analyzer = SentimentIntensityAnalyzer()\n",
        "\n",
        "df['sentiment_score'] = df['text'].apply(sentiment_score)\n",
        "\n",
        "df.to_csv('data_cleaned.csv')"
      ],
      "execution_count": null,
      "outputs": []
    }
  ]
}