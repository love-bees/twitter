{
  "nbformat": 4,
  "nbformat_minor": 0,
  "metadata": {
    "colab": {
      "name": "data_cleanup.ipynb",
      "provenance": [],
      "authorship_tag": "ABX9TyP090Gdv1uezCMNCZj7seTG",
      "include_colab_link": true
    },
    "kernelspec": {
      "name": "python3",
      "display_name": "Python 3"
    }
  },
  "cells": [
    {
      "cell_type": "markdown",
      "metadata": {
        "id": "view-in-github",
        "colab_type": "text"
      },
      "source": [
        "<a href=\"https://colab.research.google.com/github/love-bees/twitter/blob/master/data_cleanup.ipynb\" target=\"_parent\"><img src=\"https://colab.research.google.com/assets/colab-badge.svg\" alt=\"Open In Colab\"/></a>"
      ]
    },
    {
      "cell_type": "code",
      "metadata": {
        "id": "77ChrzIkrIvo",
        "colab_type": "code",
        "colab": {}
      },
      "source": [
        "import pandas as pd\n",
        "\n",
        "data = pd.read_csv('data.csv', encoding='utf-8')\n",
        "data.columns = ['id', 'time', 'geo', 'lang', 'hashtags', 'text']"
      ],
      "execution_count": 2,
      "outputs": []
    },
    {
      "cell_type": "code",
      "metadata": {
        "id": "i0HntaOqrKQi",
        "colab_type": "code",
        "colab": {
          "base_uri": "https://localhost:8080/",
          "height": 495
        },
        "outputId": "9ff49924-2063-4917-fb63-03a81a3214e1"
      },
      "source": [
        "import matplotlib.pyplot as plt\n",
        "import seaborn as sns\n",
        "\n",
        "sns.set_style('darkgrid')\n",
        "\n",
        "x = data['lang'].value_counts(1).head(15)\n",
        "x.plot(kind='bar',figsize=(10,6),fontsize=13,color='C1')\n",
        "plt.title('Jezik Tvitera procentualno', fontsize=16)\n",
        "plt.ylabel('% od svih Tvitova', fontsize=13)\n",
        "plt.xlabel('Jezik', fontsize=13)"
      ],
      "execution_count": 3,
      "outputs": [
        {
          "output_type": "stream",
          "text": [
            "/usr/local/lib/python3.6/dist-packages/statsmodels/tools/_testing.py:19: FutureWarning: pandas.util.testing is deprecated. Use the functions in the public API at pandas.testing instead.\n",
            "  import pandas.util.testing as tm\n"
          ],
          "name": "stderr"
        },
        {
          "output_type": "execute_result",
          "data": {
            "text/plain": [
              "Text(0.5, 0, 'Jezik')"
            ]
          },
          "metadata": {
            "tags": []
          },
          "execution_count": 3
        },
        {
          "output_type": "display_data",
          "data": {
            "image/png": "[encoded data removed]",
            "text/plain": [
              "<Figure size 720x432 with 1 Axes>"
            ]
          },
          "metadata": {
            "tags": []
          }
        }
      ]
    },
    {
      "cell_type": "markdown",
      "metadata": {
        "id": "itZKUuYor62f",
        "colab_type": "text"
      },
      "source": [
        "Sređivanje podataka"
      ]
    },
    {
      "cell_type": "code",
      "metadata": {
        "id": "AAyAqML7rKNQ",
        "colab_type": "code",
        "colab": {}
      },
      "source": [
        "#izdvajanje podataka koji su samo na engleskom\n",
        "text = []\n",
        "date = []\n",
        "hashes = []\n",
        "geo = []\n",
        "for i, item in enumerate(data['lang']):\n",
        "    if data['lang'][i] == 'en':\n",
        "        text.append(data['text'][i])\n",
        "        date.append(data['time'][i])\n",
        "        hashes.append(data['hashtags'][i])\n",
        "        geo.append(data['geo'][i])"
      ],
      "execution_count": 4,
      "outputs": []
    },
    {
      "cell_type": "code",
      "metadata": {
        "id": "xApqOpZorKJ0",
        "colab_type": "code",
        "colab": {}
      },
      "source": [
        "import re\n",
        "\n",
        "#prečišćavanje podataka\n",
        "for i in range(len(text)):\n",
        "    try:\n",
        "        text[i] = bytes(text[i][2:-2], 'utf-8').decode('unicode_escape')\n",
        "        hashes[i] = bytes(hashes[i][2:-1], 'utf-8').decode('unicode_escape')\n",
        "        text[i] = text[i][:text[i].index('https://t.co/')]\n",
        "        text[i] = text[i].replace(\"\\n\", '')\n",
        "        text[i] = re.sub(r'[^\\x00-\\x7F]+','', text[i])\n",
        "    except:\n",
        "        continue"
      ],
      "execution_count": 5,
      "outputs": []
    },
    {
      "cell_type": "code",
      "metadata": {
        "id": "sIKgZWs0rKFz",
        "colab_type": "code",
        "colab": {
          "base_uri": "https://localhost:8080/",
          "height": 289
        },
        "outputId": "7864eb4a-0af4-4016-f2d7-abc7f8411d27"
      },
      "source": [
        "#pretvaranje u dataframe\n",
        "df = pd.DataFrame(columns=['datetime','coordinates','hashes', 'text'])\n",
        "df['datetime'], df['coordinates'],df['hashes'], df['text'] = [date, geo, hashes, text]\n",
        "df.head()"
      ],
      "execution_count": 6,
      "outputs": [
        {
          "output_type": "execute_result",
          "data": {
            "text/html": [
              "<div>\n",
              "<style scoped>\n",
              "    .dataframe tbody tr th:only-of-type {\n",
              "        vertical-align: middle;\n",
              "    }\n",
              "\n",
              "    .dataframe tbody tr th {\n",
              "        vertical-align: top;\n",
              "    }\n",
              "\n",
              "    .dataframe thead th {\n",
              "        text-align: right;\n",
              "    }\n",
              "</style>\n",
              "<table border=\"1\" class=\"dataframe\">\n",
              "  <thead>\n",
              "    <tr style=\"text-align: right;\">\n",
              "      <th></th>\n",
              "      <th>datetime</th>\n",
              "      <th>coordinates</th>\n",
              "      <th>hashes</th>\n",
              "      <th>text</th>\n",
              "    </tr>\n",
              "  </thead>\n",
              "  <tbody>\n",
              "    <tr>\n",
              "      <th>0</th>\n",
              "      <td>2020-04-09 18:35:26</td>\n",
              "      <td>42.9607521, -80.05056563</td>\n",
              "      <td></td>\n",
              "      <td>Hey everyone , wont be streaming until this wh...</td>\n",
              "    </tr>\n",
              "    <tr>\n",
              "      <th>1</th>\n",
              "      <td>2020-04-09 18:34:29</td>\n",
              "      <td>53.55, -3.05</td>\n",
              "      <td>covid postcovid19 quarantine dogs</td>\n",
              "      <td>Top Tip Thursday  Once lockdown is over, have ...</td>\n",
              "    </tr>\n",
              "    <tr>\n",
              "      <th>2</th>\n",
              "      <td>2020-04-09 18:48:31</td>\n",
              "      <td>40.89245946, -74.13999694</td>\n",
              "      <td></td>\n",
              "      <td>Palestinian national heroine Bisan Al-Jubeh (u...</td>\n",
              "    </tr>\n",
              "    <tr>\n",
              "      <th>3</th>\n",
              "      <td>2020-04-09 18:48:21</td>\n",
              "      <td>21.31752233, -157.92366028</td>\n",
              "      <td>harley808 zeus808 storm808 lovemydogs thursday...</td>\n",
              "      <td>Thankful Thursday #harley808 #zeus808 #storm80...</td>\n",
              "    </tr>\n",
              "    <tr>\n",
              "      <th>4</th>\n",
              "      <td>2020-04-09 18:47:04</td>\n",
              "      <td>48.47593351, -81.32806152</td>\n",
              "      <td></td>\n",
              "      <td>Neighbourhood getting loud for healthcare work...</td>\n",
              "    </tr>\n",
              "  </tbody>\n",
              "</table>\n",
              "</div>"
            ],
            "text/plain": [
              "              datetime  ...                                               text\n",
              "0  2020-04-09 18:35:26  ...  Hey everyone , wont be streaming until this wh...\n",
              "1  2020-04-09 18:34:29  ...  Top Tip Thursday  Once lockdown is over, have ...\n",
              "2  2020-04-09 18:48:31  ...  Palestinian national heroine Bisan Al-Jubeh (u...\n",
              "3  2020-04-09 18:48:21  ...  Thankful Thursday #harley808 #zeus808 #storm80...\n",
              "4  2020-04-09 18:47:04  ...  Neighbourhood getting loud for healthcare work...\n",
              "\n",
              "[5 rows x 4 columns]"
            ]
          },
          "metadata": {
            "tags": []
          },
          "execution_count": 6
        }
      ]
    },
    {
      "cell_type": "markdown",
      "metadata": {
        "id": "0dNo9DeSr0sT",
        "colab_type": "text"
      },
      "source": [
        "Sentiment"
      ]
    },
    {
      "cell_type": "code",
      "metadata": {
        "id": "tvZ8eVuYrnUV",
        "colab_type": "code",
        "colab": {
          "base_uri": "https://localhost:8080/",
          "height": 34
        },
        "outputId": "c3d39124-5ab8-4bcb-bf72-00d3b96dd118"
      },
      "source": [
        "from nltk.sentiment.vader import SentimentIntensityAnalyzer\n",
        "import nltk\n",
        "nltk.download('vader_lexicon')\n",
        "\n",
        "def sentiment_score(text):\n",
        "    analysis = analyzer.polarity_scores(text)\n",
        "    return analysis['compound']\n",
        "\n",
        "analyzer = SentimentIntensityAnalyzer()\n",
        "\n",
        "df['sentiment_score'] = df['text'].apply(sentiment_score)\n",
        "\n",
        "df.to_csv('data_cleaned.csv')"
      ],
      "execution_count": 8,
      "outputs": [
        {
          "output_type": "stream",
          "text": [
            "[nltk_data] Downloading package vader_lexicon to /root/nltk_data...\n"
          ],
          "name": "stdout"
        }
      ]
    },
    {
      "cell_type": "code",
      "metadata": {
        "id": "-wOZGN7AqqRi",
        "colab_type": "code",
        "colab": {
          "base_uri": "https://localhost:8080/",
          "height": 289
        },
        "outputId": "51a829b4-459e-4f15-a858-0ed72558cf81"
      },
      "source": [
        "df.head()"
      ],
      "execution_count": 9,
      "outputs": [
        {
          "output_type": "execute_result",
          "data": {
            "text/html": [
              "<div>\n",
              "<style scoped>\n",
              "    .dataframe tbody tr th:only-of-type {\n",
              "        vertical-align: middle;\n",
              "    }\n",
              "\n",
              "    .dataframe tbody tr th {\n",
              "        vertical-align: top;\n",
              "    }\n",
              "\n",
              "    .dataframe thead th {\n",
              "        text-align: right;\n",
              "    }\n",
              "</style>\n",
              "<table border=\"1\" class=\"dataframe\">\n",
              "  <thead>\n",
              "    <tr style=\"text-align: right;\">\n",
              "      <th></th>\n",
              "      <th>datetime</th>\n",
              "      <th>coordinates</th>\n",
              "      <th>hashes</th>\n",
              "      <th>text</th>\n",
              "      <th>sentiment_score</th>\n",
              "    </tr>\n",
              "  </thead>\n",
              "  <tbody>\n",
              "    <tr>\n",
              "      <th>0</th>\n",
              "      <td>2020-04-09 18:35:26</td>\n",
              "      <td>42.9607521, -80.05056563</td>\n",
              "      <td></td>\n",
              "      <td>Hey everyone , wont be streaming until this wh...</td>\n",
              "      <td>0.4215</td>\n",
              "    </tr>\n",
              "    <tr>\n",
              "      <th>1</th>\n",
              "      <td>2020-04-09 18:34:29</td>\n",
              "      <td>53.55, -3.05</td>\n",
              "      <td>covid postcovid19 quarantine dogs</td>\n",
              "      <td>Top Tip Thursday  Once lockdown is over, have ...</td>\n",
              "      <td>0.3818</td>\n",
              "    </tr>\n",
              "    <tr>\n",
              "      <th>2</th>\n",
              "      <td>2020-04-09 18:48:31</td>\n",
              "      <td>40.89245946, -74.13999694</td>\n",
              "      <td></td>\n",
              "      <td>Palestinian national heroine Bisan Al-Jubeh (u...</td>\n",
              "      <td>0.5719</td>\n",
              "    </tr>\n",
              "    <tr>\n",
              "      <th>3</th>\n",
              "      <td>2020-04-09 18:48:21</td>\n",
              "      <td>21.31752233, -157.92366028</td>\n",
              "      <td>harley808 zeus808 storm808 lovemydogs thursday...</td>\n",
              "      <td>Thankful Thursday #harley808 #zeus808 #storm80...</td>\n",
              "      <td>0.5719</td>\n",
              "    </tr>\n",
              "    <tr>\n",
              "      <th>4</th>\n",
              "      <td>2020-04-09 18:47:04</td>\n",
              "      <td>48.47593351, -81.32806152</td>\n",
              "      <td></td>\n",
              "      <td>Neighbourhood getting loud for healthcare work...</td>\n",
              "      <td>0.0000</td>\n",
              "    </tr>\n",
              "  </tbody>\n",
              "</table>\n",
              "</div>"
            ],
            "text/plain": [
              "              datetime  ... sentiment_score\n",
              "0  2020-04-09 18:35:26  ...          0.4215\n",
              "1  2020-04-09 18:34:29  ...          0.3818\n",
              "2  2020-04-09 18:48:31  ...          0.5719\n",
              "3  2020-04-09 18:48:21  ...          0.5719\n",
              "4  2020-04-09 18:47:04  ...          0.0000\n",
              "\n",
              "[5 rows x 5 columns]"
            ]
          },
          "metadata": {
            "tags": []
          },
          "execution_count": 9
        }
      ]
    }
  ]
}