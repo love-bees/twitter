{
  "nbformat": 4,
  "nbformat_minor": 0,
  "metadata": {
    "kernelspec": {
      "display_name": "Python 3",
      "language": "python",
      "name": "python3"
    },
    "language_info": {
      "codemirror_mode": {
        "name": "ipython",
        "version": 3
      },
      "file_extension": ".py",
      "mimetype": "text/x-python",
      "name": "python",
      "nbconvert_exporter": "python",
      "pygments_lexer": "ipython3",
      "version": "3.6.5"
    },
    "colab": {
      "name": "data_generation.ipynb",
      "provenance": [],
      "include_colab_link": true
    }
  },
  "cells": [
    {
      "cell_type": "markdown",
      "metadata": {
        "id": "view-in-github",
        "colab_type": "text"
      },
      "source": [
        "<a href=\"https://colab.research.google.com/github/love-bees/twitter/blob/master/data_generation.ipynb\" target=\"_parent\"><img src=\"https://colab.research.google.com/assets/colab-badge.svg\" alt=\"Open In Colab\"/></a>"
      ]
    },
    {
      "cell_type": "code",
      "metadata": {
        "id": "FuRP634lwAe5",
        "colab_type": "code",
        "colab": {}
      },
      "source": [
        "import tweepy, csv\n",
        "\n",
        "auth = tweepy.OAuthHandler('zzz')\n",
        "auth.set_access_token('zzz')\n",
        "\n",
        "api = tweepy.API(auth, wait_on_rate_limit=True, wait_on_rate_limit_notify=True)"
      ],
      "execution_count": 0,
      "outputs": []
    },
    {
      "cell_type": "code",
      "metadata": {
        "id": "TMiXji_8wAfW",
        "colab_type": "code",
        "colab": {},
        "outputId": "2d7fa7f4-7858-480f-8021-3e4314c8a967"
      },
      "source": [
        "new_tweets = 0\n",
        "\n",
        "while True:\n",
        "    try:\n",
        "        tweet_ids = [int(tweet_id) for tweet_id in open('gathered_tweet_ids.txt', 'r').read().split(\"\\n\") if tweet_id.strip() != \"\"]\n",
        "\n",
        "        csv_file = open(\"tweets.csv\", \"a\")\n",
        "        csv_writer = csv.writer(csv_file)\n",
        "\n",
        "        for tweet in tweepy.Cursor(api.search, q = \"covid\", since_id = max(tweet_ids),\n",
        "                                   #since = \"2020-04-05\", until = \"2020-04-06\", \n",
        "                                   tweet_mode = \"extended\", count = 100).items():\n",
        "\n",
        "            if tweet.geo:\n",
        "                if tweet.id not in tweet_ids:\n",
        "\n",
        "                    csv_writer.writerow([tweet.id_str, str(tweet.created_at),\n",
        "                                         \", \".join([str(xy) for xy in tweet.coordinates[\"coordinates\"][::-1]]), tweet.lang, \n",
        "                                         \" \".join([hashtag[\"text\"] for hashtag in tweet.entities[\"hashtags\"]]).encode(\"utf-8\"), \n",
        "                                         tweet.full_text.encode('utf-8')])\n",
        "\n",
        "                    with open('gathered_tweet_ids.txt', 'a') as file:\n",
        "                        file.write(\"\\n\" + str(tweet.id))\n",
        "                    tweet_ids.append(tweet.id)\n",
        "\n",
        "                    print(\"Tweets collected: \" + str(len(tweet_ids)))\n",
        "                    csv_file.flush()\n",
        "\n",
        "                    new_tweets += 1\n",
        "                    \n",
        "                    if new_tweets == 50:\n",
        "                        new_tweets = 0\n",
        "                        csv_file.close()\n",
        "                        break\n",
        "    except:\n",
        "        continue"
      ],
      "execution_count": 0,
      "outputs": [
        {
          "output_type": "stream",
          "text": [
            "Tweets collected: 5882\n",
            "Tweets collected: 5883\n",
            "Tweets collected: 5884\n",
            "Tweets collected: 5885\n",
            "Tweets collected: 5886\n",
            "Tweets collected: 5887\n",
            "Tweets collected: 5888\n",
            "Tweets collected: 5889\n",
            "Tweets collected: 5890\n",
            "Tweets collected: 5891\n",
            "Tweets collected: 5892\n"
          ],
          "name": "stdout"
        },
        {
          "output_type": "stream",
          "text": [
            "Rate limit reached. Sleeping for: 781\n"
          ],
          "name": "stderr"
        },
        {
          "output_type": "stream",
          "text": [
            "Tweets collected: 5893\n",
            "Tweets collected: 5894\n",
            "Tweets collected: 5895\n",
            "Tweets collected: 5896\n",
            "Tweets collected: 5897\n",
            "Tweets collected: 5898\n",
            "Tweets collected: 5899\n",
            "Tweets collected: 5900\n",
            "Tweets collected: 5901\n",
            "Tweets collected: 5902\n",
            "Tweets collected: 5903\n",
            "Tweets collected: 5904\n",
            "Tweets collected: 5905\n",
            "Tweets collected: 5906\n"
          ],
          "name": "stdout"
        },
        {
          "output_type": "stream",
          "text": [
            "Rate limit reached. Sleeping for: 770\n"
          ],
          "name": "stderr"
        },
        {
          "output_type": "stream",
          "text": [
            "Tweets collected: 5907\n",
            "Tweets collected: 5908\n",
            "Tweets collected: 5909\n",
            "Tweets collected: 5910\n",
            "Tweets collected: 5911\n",
            "Tweets collected: 5912\n",
            "Tweets collected: 5913\n",
            "Tweets collected: 5914\n",
            "Tweets collected: 5915\n",
            "Tweets collected: 5916\n",
            "Tweets collected: 5917\n",
            "Tweets collected: 5918\n",
            "Tweets collected: 5919\n",
            "Tweets collected: 5920\n"
          ],
          "name": "stdout"
        },
        {
          "output_type": "stream",
          "text": [
            "Rate limit reached. Sleeping for: 769\n"
          ],
          "name": "stderr"
        },
        {
          "output_type": "stream",
          "text": [
            "Tweets collected: 5921\n",
            "Tweets collected: 5922\n",
            "Tweets collected: 5923\n",
            "Tweets collected: 5924\n",
            "Tweets collected: 5925\n",
            "Tweets collected: 5926\n",
            "Tweets collected: 5927\n",
            "Tweets collected: 5928\n",
            "Tweets collected: 5929\n",
            "Tweets collected: 5930\n",
            "Tweets collected: 5931\n",
            "Tweets collected: 5932\n",
            "Tweets collected: 5933\n",
            "Tweets collected: 5934\n"
          ],
          "name": "stdout"
        },
        {
          "output_type": "stream",
          "text": [
            "Rate limit reached. Sleeping for: 694\n"
          ],
          "name": "stderr"
        },
        {
          "output_type": "stream",
          "text": [
            "Tweets collected: 5935\n",
            "Tweets collected: 5936\n",
            "Tweets collected: 5937\n",
            "Tweets collected: 5938\n",
            "Tweets collected: 5939\n",
            "Tweets collected: 5940\n",
            "Tweets collected: 5941\n",
            "Tweets collected: 5942\n",
            "Tweets collected: 5943\n",
            "Tweets collected: 5944\n"
          ],
          "name": "stdout"
        },
        {
          "output_type": "stream",
          "text": [
            "Rate limit reached. Sleeping for: 771\n"
          ],
          "name": "stderr"
        },
        {
          "output_type": "stream",
          "text": [
            "Tweets collected: 5945\n",
            "Tweets collected: 5946\n",
            "Tweets collected: 5947\n",
            "Tweets collected: 5948\n",
            "Tweets collected: 5949\n",
            "Tweets collected: 5950\n",
            "Tweets collected: 5951\n",
            "Tweets collected: 5952\n",
            "Tweets collected: 5953\n",
            "Tweets collected: 5954\n",
            "Tweets collected: 5955\n",
            "Tweets collected: 5956\n",
            "Tweets collected: 5957\n",
            "Tweets collected: 5958\n",
            "Tweets collected: 5959\n",
            "Tweets collected: 5960\n",
            "Tweets collected: 5961\n"
          ],
          "name": "stdout"
        },
        {
          "output_type": "stream",
          "text": [
            "Rate limit reached. Sleeping for: 709\n"
          ],
          "name": "stderr"
        },
        {
          "output_type": "stream",
          "text": [
            "Tweets collected: 5962\n",
            "Tweets collected: 5963\n",
            "Tweets collected: 5964\n",
            "Tweets collected: 5965\n",
            "Tweets collected: 5966\n",
            "Tweets collected: 5967\n",
            "Tweets collected: 5968\n",
            "Tweets collected: 5969\n",
            "Tweets collected: 5970\n",
            "Tweets collected: 5971\n",
            "Tweets collected: 5972\n",
            "Tweets collected: 5973\n",
            "Tweets collected: 5974\n",
            "Tweets collected: 5975\n",
            "Tweets collected: 5976\n"
          ],
          "name": "stdout"
        },
        {
          "output_type": "stream",
          "text": [
            "Rate limit reached. Sleeping for: 748\n"
          ],
          "name": "stderr"
        },
        {
          "output_type": "stream",
          "text": [
            "Tweets collected: 5977\n",
            "Tweets collected: 5978\n",
            "Tweets collected: 5979\n",
            "Tweets collected: 5980\n",
            "Tweets collected: 5981\n",
            "Tweets collected: 5982\n",
            "Tweets collected: 5983\n",
            "Tweets collected: 5984\n",
            "Tweets collected: 5985\n",
            "Tweets collected: 5986\n",
            "Tweets collected: 5987\n",
            "Tweets collected: 5988\n",
            "Tweets collected: 5989\n",
            "Tweets collected: 5990\n",
            "Tweets collected: 5991\n",
            "Tweets collected: 5992\n",
            "Tweets collected: 5993\n",
            "Tweets collected: 5994\n",
            "Tweets collected: 5995\n"
          ],
          "name": "stdout"
        },
        {
          "output_type": "stream",
          "text": [
            "Rate limit reached. Sleeping for: 772\n"
          ],
          "name": "stderr"
        },
        {
          "output_type": "stream",
          "text": [
            "Tweets collected: 5996\n",
            "Tweets collected: 5997\n",
            "Tweets collected: 5998\n",
            "Tweets collected: 5999\n",
            "Tweets collected: 6000\n",
            "Tweets collected: 6001\n",
            "Tweets collected: 6002\n",
            "Tweets collected: 6003\n",
            "Tweets collected: 6004\n",
            "Tweets collected: 6005\n"
          ],
          "name": "stdout"
        },
        {
          "output_type": "stream",
          "text": [
            "Rate limit reached. Sleeping for: 772\n"
          ],
          "name": "stderr"
        },
        {
          "output_type": "stream",
          "text": [
            "Tweets collected: 6006\n",
            "Tweets collected: 6007\n",
            "Tweets collected: 6008\n",
            "Tweets collected: 6009\n",
            "Tweets collected: 6010\n",
            "Tweets collected: 6011\n",
            "Tweets collected: 6012\n",
            "Tweets collected: 6013\n",
            "Tweets collected: 6014\n",
            "Tweets collected: 6015\n",
            "Tweets collected: 6016\n",
            "Tweets collected: 6017\n"
          ],
          "name": "stdout"
        },
        {
          "output_type": "stream",
          "text": [
            "Rate limit reached. Sleeping for: 740\n"
          ],
          "name": "stderr"
        },
        {
          "output_type": "stream",
          "text": [
            "Tweets collected: 6018\n",
            "Tweets collected: 6019\n",
            "Tweets collected: 6020\n",
            "Tweets collected: 6021\n",
            "Tweets collected: 6022\n",
            "Tweets collected: 6023\n",
            "Tweets collected: 6024\n",
            "Tweets collected: 6025\n",
            "Tweets collected: 6026\n",
            "Tweets collected: 6027\n",
            "Tweets collected: 6028\n",
            "Tweets collected: 6029\n",
            "Tweets collected: 6030\n"
          ],
          "name": "stdout"
        },
        {
          "output_type": "stream",
          "text": [
            "Rate limit reached. Sleeping for: 680\n"
          ],
          "name": "stderr"
        },
        {
          "output_type": "stream",
          "text": [
            "Tweets collected: 6031\n",
            "Tweets collected: 6032\n",
            "Tweets collected: 6033\n",
            "Tweets collected: 6034\n",
            "Tweets collected: 6035\n",
            "Tweets collected: 6036\n",
            "Tweets collected: 6037\n",
            "Tweets collected: 6038\n",
            "Tweets collected: 6039\n",
            "Tweets collected: 6040\n",
            "Tweets collected: 6041\n",
            "Tweets collected: 6042\n",
            "Tweets collected: 6043\n"
          ],
          "name": "stdout"
        },
        {
          "output_type": "stream",
          "text": [
            "Rate limit reached. Sleeping for: 774\n"
          ],
          "name": "stderr"
        },
        {
          "output_type": "stream",
          "text": [
            "Tweets collected: 6044\n",
            "Tweets collected: 6045\n",
            "Tweets collected: 6046\n",
            "Tweets collected: 6047\n",
            "Tweets collected: 6048\n",
            "Tweets collected: 6049\n",
            "Tweets collected: 6050\n",
            "Tweets collected: 6051\n",
            "Tweets collected: 6052\n",
            "Tweets collected: 6053\n",
            "Tweets collected: 6054\n",
            "Tweets collected: 6055\n"
          ],
          "name": "stdout"
        },
        {
          "output_type": "stream",
          "text": [
            "Rate limit reached. Sleeping for: 770\n"
          ],
          "name": "stderr"
        },
        {
          "output_type": "stream",
          "text": [
            "Tweets collected: 6056\n",
            "Tweets collected: 6057\n",
            "Tweets collected: 6058\n",
            "Tweets collected: 6059\n",
            "Tweets collected: 6060\n",
            "Tweets collected: 6061\n",
            "Tweets collected: 6062\n",
            "Tweets collected: 6063\n",
            "Tweets collected: 6064\n",
            "Tweets collected: 6065\n",
            "Tweets collected: 6066\n",
            "Tweets collected: 6067\n",
            "Tweets collected: 6068\n"
          ],
          "name": "stdout"
        },
        {
          "output_type": "stream",
          "text": [
            "Rate limit reached. Sleeping for: 771\n"
          ],
          "name": "stderr"
        },
        {
          "output_type": "stream",
          "text": [
            "Tweets collected: 6069\n",
            "Tweets collected: 6070\n",
            "Tweets collected: 6071\n",
            "Tweets collected: 6072\n",
            "Tweets collected: 6073\n",
            "Tweets collected: 6074\n",
            "Tweets collected: 6075\n",
            "Tweets collected: 6076\n",
            "Tweets collected: 6077\n",
            "Tweets collected: 6078\n",
            "Tweets collected: 6079\n",
            "Tweets collected: 6080\n",
            "Tweets collected: 6081\n"
          ],
          "name": "stdout"
        },
        {
          "output_type": "stream",
          "text": [
            "Rate limit reached. Sleeping for: 767\n"
          ],
          "name": "stderr"
        },
        {
          "output_type": "stream",
          "text": [
            "Tweets collected: 6082\n",
            "Tweets collected: 6083\n",
            "Tweets collected: 6084\n",
            "Tweets collected: 6085\n",
            "Tweets collected: 6086\n",
            "Tweets collected: 6087\n",
            "Tweets collected: 6088\n",
            "Tweets collected: 6089\n",
            "Tweets collected: 6090\n"
          ],
          "name": "stdout"
        },
        {
          "output_type": "stream",
          "text": [
            "Rate limit reached. Sleeping for: 771\n"
          ],
          "name": "stderr"
        },
        {
          "output_type": "stream",
          "text": [
            "Tweets collected: 6091\n",
            "Tweets collected: 6092\n",
            "Tweets collected: 6093\n",
            "Tweets collected: 6094\n",
            "Tweets collected: 6095\n",
            "Tweets collected: 6096\n",
            "Tweets collected: 6097\n",
            "Tweets collected: 6098\n",
            "Tweets collected: 6099\n"
          ],
          "name": "stdout"
        },
        {
          "output_type": "stream",
          "text": [
            "Rate limit reached. Sleeping for: 770\n"
          ],
          "name": "stderr"
        }
      ]
    },
    {
      "cell_type": "code",
      "metadata": {
        "id": "evGtwoStwAfz",
        "colab_type": "code",
        "colab": {}
      },
      "source": [
        "csv_file.flush()"
      ],
      "execution_count": 0,
      "outputs": []
    }
  ]
}