{
  "nbformat": 4,
  "nbformat_minor": 0,
  "metadata": {
    "kernelspec": {
      "display_name": "Python 3",
      "language": "python",
      "name": "python3"
    },
    "language_info": {
      "codemirror_mode": {
        "name": "ipython",
        "version": 3
      },
      "file_extension": ".py",
      "mimetype": "text/x-python",
      "name": "python",
      "nbconvert_exporter": "python",
      "pygments_lexer": "ipython3",
      "version": "3.6.5"
    },
    "colab": {
      "name": "twitter_data_analysis.ipynb",
      "provenance": [],
      "include_colab_link": true
    }
  },
  "cells": [
    {
      "cell_type": "markdown",
      "metadata": {
        "id": "view-in-github",
        "colab_type": "text"
      },
      "source": [
        "<a href=\"https://colab.research.google.com/github/love-bees/twitter/blob/master/twitter_data_analysis.ipynb\" target=\"_parent\"><img src=\"https://colab.research.google.com/assets/colab-badge.svg\" alt=\"Open In Colab\"/></a>"
      ]
    },
    {
      "cell_type": "code",
      "metadata": {
        "id": "F43VI7Y7wkUk",
        "colab_type": "code",
        "colab": {},
        "outputId": "0e96c91b-a44f-4dad-c9ec-46aec5a6ca4b"
      },
      "source": [
        "#tables\n",
        "import pandas as pd\n",
        "from collections import Counter\n",
        "from prettytable import PrettyTable\n",
        "import matplotlib\n",
        "import matplotlib.pyplot as plt\n",
        "import seaborn as sns\n",
        "#map\n",
        "from glob import glob\n",
        "import numpy as np\n",
        "import folium\n",
        "from folium import plugins\n",
        "from folium.plugins import HeatMap\n",
        "#cleaning text\n",
        "import string\n",
        "import regex as re\n",
        "import nltk\n",
        "from nltk.corpus import stopwords\n",
        "nltk.download('stopwords')\n",
        "nltk.download('punkt')\n",
        "from nltk.tokenize import word_tokenize\n",
        "from textblob import TextBlob"
      ],
      "execution_count": 0,
      "outputs": [
        {
          "output_type": "stream",
          "text": [
            "[nltk_data] Downloading package stopwords to\n",
            "[nltk_data]     /home/cicmila/nltk_data...\n",
            "[nltk_data]   Package stopwords is already up-to-date!\n",
            "[nltk_data] Downloading package punkt to /home/cicmila/nltk_data...\n",
            "[nltk_data]   Package punkt is already up-to-date!\n"
          ],
          "name": "stdout"
        }
      ]
    },
    {
      "cell_type": "code",
      "metadata": {
        "id": "Ywvei-4dwkVZ",
        "colab_type": "code",
        "colab": {}
      },
      "source": [
        "#import data, name columns\n",
        "data = pd.read_csv('tweets.csv', encoding='utf-8')\n",
        "data.columns = ['id', 'time', 'geo', 'lang', 'hashtags', 'text']"
      ],
      "execution_count": 0,
      "outputs": []
    },
    {
      "cell_type": "code",
      "metadata": {
        "id": "2x33gTYOwkV2",
        "colab_type": "code",
        "colab": {},
        "outputId": "117f3731-4a45-425f-88a0-fef950f82cdb"
      },
      "source": [
        "data.head()"
      ],
      "execution_count": 0,
      "outputs": [
        {
          "output_type": "execute_result",
          "data": {
            "text/html": [
              "<div>\n",
              "<style scoped>\n",
              "    .dataframe tbody tr th:only-of-type {\n",
              "        vertical-align: middle;\n",
              "    }\n",
              "\n",
              "    .dataframe tbody tr th {\n",
              "        vertical-align: top;\n",
              "    }\n",
              "\n",
              "    .dataframe thead th {\n",
              "        text-align: right;\n",
              "    }\n",
              "</style>\n",
              "<table border=\"1\" class=\"dataframe\">\n",
              "  <thead>\n",
              "    <tr style=\"text-align: right;\">\n",
              "      <th></th>\n",
              "      <th>id</th>\n",
              "      <th>time</th>\n",
              "      <th>geo</th>\n",
              "      <th>lang</th>\n",
              "      <th>hashtags</th>\n",
              "      <th>text</th>\n",
              "    </tr>\n",
              "  </thead>\n",
              "  <tbody>\n",
              "    <tr>\n",
              "      <th>0</th>\n",
              "      <td>1248318627935182849</td>\n",
              "      <td>2020-04-09 18:35:28</td>\n",
              "      <td>6.05861, -75.5031</td>\n",
              "      <td>es</td>\n",
              "      <td>b'jardin jardines huerta esposa love enamorado...</td>\n",
              "      <td>b'Ella! Siempre ella! Qui\\xc3\\xa9n no se enamo...</td>\n",
              "    </tr>\n",
              "    <tr>\n",
              "      <th>1</th>\n",
              "      <td>1248318622113693698</td>\n",
              "      <td>2020-04-09 18:35:26</td>\n",
              "      <td>42.9607521, -80.05056563</td>\n",
              "      <td>en</td>\n",
              "      <td>b''</td>\n",
              "      <td>b'Hey everyone , won\\xe2\\x80\\x99t be streaming...</td>\n",
              "    </tr>\n",
              "    <tr>\n",
              "      <th>2</th>\n",
              "      <td>1248318523908198400</td>\n",
              "      <td>2020-04-09 18:35:03</td>\n",
              "      <td>38.7261, -9.1394</td>\n",
              "      <td>et</td>\n",
              "      <td>b'photodocumentary moon exterior isolation cov...</td>\n",
              "      <td>b'M O O N\\n#photodocumentary\\n#moon #exterior\\...</td>\n",
              "    </tr>\n",
              "    <tr>\n",
              "      <th>3</th>\n",
              "      <td>1248318383763972100</td>\n",
              "      <td>2020-04-09 18:34:29</td>\n",
              "      <td>53.55, -3.05</td>\n",
              "      <td>en</td>\n",
              "      <td>b'covid postcovid19 quarantine dogs'</td>\n",
              "      <td>b'\\xf0\\x9f\\xa6\\xaeTop Tip Thursday \\xf0\\x9f\\x9...</td>\n",
              "    </tr>\n",
              "    <tr>\n",
              "      <th>4</th>\n",
              "      <td>1248318271801053185</td>\n",
              "      <td>2020-04-09 18:34:03</td>\n",
              "      <td>18.4596876, -69.9485084</td>\n",
              "      <td>es</td>\n",
              "      <td>b''</td>\n",
              "      <td>b'El bolet\\xc3\\xadn 21 con r\\xc3\\xa9cord de ca...</td>\n",
              "    </tr>\n",
              "  </tbody>\n",
              "</table>\n",
              "</div>"
            ],
            "text/plain": [
              "                    id                 time                       geo lang  \\\n",
              "0  1248318627935182849  2020-04-09 18:35:28         6.05861, -75.5031   es   \n",
              "1  1248318622113693698  2020-04-09 18:35:26  42.9607521, -80.05056563   en   \n",
              "2  1248318523908198400  2020-04-09 18:35:03          38.7261, -9.1394   et   \n",
              "3  1248318383763972100  2020-04-09 18:34:29              53.55, -3.05   en   \n",
              "4  1248318271801053185  2020-04-09 18:34:03   18.4596876, -69.9485084   es   \n",
              "\n",
              "                                            hashtags  \\\n",
              "0  b'jardin jardines huerta esposa love enamorado...   \n",
              "1                                                b''   \n",
              "2  b'photodocumentary moon exterior isolation cov...   \n",
              "3               b'covid postcovid19 quarantine dogs'   \n",
              "4                                                b''   \n",
              "\n",
              "                                                text  \n",
              "0  b'Ella! Siempre ella! Qui\\xc3\\xa9n no se enamo...  \n",
              "1  b'Hey everyone , won\\xe2\\x80\\x99t be streaming...  \n",
              "2  b'M O O N\\n#photodocumentary\\n#moon #exterior\\...  \n",
              "3  b'\\xf0\\x9f\\xa6\\xaeTop Tip Thursday \\xf0\\x9f\\x9...  \n",
              "4  b'El bolet\\xc3\\xadn 21 con r\\xc3\\xa9cord de ca...  "
            ]
          },
          "metadata": {
            "tags": []
          },
          "execution_count": 3
        }
      ]
    },
    {
      "cell_type": "code",
      "metadata": {
        "scrolled": true,
        "id": "FLvbmUdhwkWL",
        "colab_type": "code",
        "colab": {}
      },
      "source": [
        "#get only english tweets\n",
        "text = []\n",
        "date = []\n",
        "hashes = []\n",
        "geo = []\n",
        "for i, item in enumerate(data['lang']):\n",
        "    if data['lang'][i] == 'en':\n",
        "        text.append(data['text'][i])\n",
        "        date.append(data['time'][i])\n",
        "        hashes.append(data['hashtags'][i])\n",
        "        geo.append(data['geo'][i])"
      ],
      "execution_count": 0,
      "outputs": []
    },
    {
      "cell_type": "code",
      "metadata": {
        "id": "bbaauCLZwkWe",
        "colab_type": "code",
        "colab": {}
      },
      "source": [
        "#cleanup working\n",
        "for i in range(len(text)):\n",
        "    try:\n",
        "        text[i] = bytes(text[i][2:-2], 'utf-8').decode('unicode_escape')\n",
        "        hashes[i] = bytes(hashes[i][2:-1], 'utf-8').decode('unicode_escape')\n",
        "        text[i] = re.sub(r'[^\\x00-\\x7F]+','', text[i])\n",
        "        text[i] = text[i][:text[i].index('https://t.co/')]\n",
        "        text[i] = text[i].replace(\"\\n\", '')\n",
        "        #text[i]  = \"\".join([char for char in text[i] if char not in string.punctuation])\n",
        "        #text[i] = [word for word in text[i] if word not in stopwords.words()]\n",
        "        #text[i] = word_tokenize(text[i])\n",
        "    except:\n",
        "        continue"
      ],
      "execution_count": 0,
      "outputs": []
    },
    {
      "cell_type": "code",
      "metadata": {
        "id": "3LJP9-zrwkWy",
        "colab_type": "code",
        "colab": {}
      },
      "source": [
        "hashtags = []\n",
        "for item in hashes:\n",
        "    hashtags.append(item)\n",
        "hashes_single = []\n",
        "for i,h in enumerate(hashtags):\n",
        "    if h == '':\n",
        "        continue\n",
        "    else:\n",
        "        hashes_single.append(hashtags[i].split())\n",
        "h = []\n",
        "for i in hashes_single:\n",
        "    for j in i:\n",
        "        h.append(j.lower())"
      ],
      "execution_count": 0,
      "outputs": []
    },
    {
      "cell_type": "code",
      "metadata": {
        "id": "yYhe5xDewkXD",
        "colab_type": "code",
        "colab": {}
      },
      "source": [
        "hashes_single = pd.Series(h)\n",
        "#hashes_single"
      ],
      "execution_count": 0,
      "outputs": []
    },
    {
      "cell_type": "code",
      "metadata": {
        "id": "H2wos3aVwkXT",
        "colab_type": "code",
        "colab": {},
        "outputId": "7642a7b7-fde7-473b-c74c-40b30720646d"
      },
      "source": [
        "hashes_single.describe()"
      ],
      "execution_count": 0,
      "outputs": [
        {
          "output_type": "execute_result",
          "data": {
            "text/plain": [
              "count        10524\n",
              "unique        5258\n",
              "top       covid_19\n",
              "freq           619\n",
              "dtype: object"
            ]
          },
          "metadata": {
            "tags": []
          },
          "execution_count": 8
        }
      ]
    },
    {
      "cell_type": "code",
      "metadata": {
        "id": "vC8Yn-pIwkXo",
        "colab_type": "code",
        "colab": {}
      },
      "source": [
        "#turn into dataframe\n",
        "df = pd.DataFrame(columns=['datetime','coordinates','hashes', 'text'])\n",
        "df['datetime'], df['coordinates'],df['hashes'], df['text'] = [date, geo, hashes, text]"
      ],
      "execution_count": 0,
      "outputs": []
    },
    {
      "cell_type": "code",
      "metadata": {
        "id": "RUN3UFyiwkX3",
        "colab_type": "code",
        "colab": {},
        "outputId": "401e7813-6c8c-49e5-e86b-e5999f9a9ebd"
      },
      "source": [
        "df"
      ],
      "execution_count": 0,
      "outputs": [
        {
          "output_type": "execute_result",
          "data": {
            "text/html": [
              "<div>\n",
              "<style scoped>\n",
              "    .dataframe tbody tr th:only-of-type {\n",
              "        vertical-align: middle;\n",
              "    }\n",
              "\n",
              "    .dataframe tbody tr th {\n",
              "        vertical-align: top;\n",
              "    }\n",
              "\n",
              "    .dataframe thead th {\n",
              "        text-align: right;\n",
              "    }\n",
              "</style>\n",
              "<table border=\"1\" class=\"dataframe\">\n",
              "  <thead>\n",
              "    <tr style=\"text-align: right;\">\n",
              "      <th></th>\n",
              "      <th>datetime</th>\n",
              "      <th>coordinates</th>\n",
              "      <th>hashes</th>\n",
              "      <th>text</th>\n",
              "    </tr>\n",
              "  </thead>\n",
              "  <tbody>\n",
              "    <tr>\n",
              "      <th>0</th>\n",
              "      <td>2020-04-09 18:35:26</td>\n",
              "      <td>42.9607521, -80.05056563</td>\n",
              "      <td></td>\n",
              "      <td>Hey everyone , wont be streaming until this wh...</td>\n",
              "    </tr>\n",
              "    <tr>\n",
              "      <th>1</th>\n",
              "      <td>2020-04-09 18:34:29</td>\n",
              "      <td>53.55, -3.05</td>\n",
              "      <td>covid postcovid19 quarantine dogs</td>\n",
              "      <td>Top Tip Thursday  Once lockdown is over, have ...</td>\n",
              "    </tr>\n",
              "    <tr>\n",
              "      <th>2</th>\n",
              "      <td>2020-04-09 18:48:31</td>\n",
              "      <td>40.89245946, -74.13999694</td>\n",
              "      <td></td>\n",
              "      <td>Palestinian national heroine Bisan Al-Jubeh (u...</td>\n",
              "    </tr>\n",
              "    <tr>\n",
              "      <th>3</th>\n",
              "      <td>2020-04-09 18:48:21</td>\n",
              "      <td>21.31752233, -157.92366028</td>\n",
              "      <td>harley808 zeus808 storm808 lovemydogs thursday...</td>\n",
              "      <td>Thankful Thursday #harley808 #zeus808 #storm80...</td>\n",
              "    </tr>\n",
              "    <tr>\n",
              "      <th>4</th>\n",
              "      <td>2020-04-09 18:47:04</td>\n",
              "      <td>48.47593351, -81.32806152</td>\n",
              "      <td></td>\n",
              "      <td>Neighbourhood getting loud for healthcare work...</td>\n",
              "    </tr>\n",
              "    <tr>\n",
              "      <th>5</th>\n",
              "      <td>2020-04-09 18:46:22</td>\n",
              "      <td>33.19277, -96.99155</td>\n",
              "      <td>whatdayisit covid shelterinplace kmarkrealtor ...</td>\n",
              "      <td>Its Thursday in case anyone was wondering #wha...</td>\n",
              "    </tr>\n",
              "    <tr>\n",
              "      <th>6</th>\n",
              "      <td>2020-04-09 18:45:39</td>\n",
              "      <td>33.67, -117.78</td>\n",
              "      <td></td>\n",
              "      <td>From @ienearth MONDAY APRIL 13THJoin Indigenou...</td>\n",
              "    </tr>\n",
              "    <tr>\n",
              "      <th>7</th>\n",
              "      <td>2020-04-09 18:45:19</td>\n",
              "      <td>40.0675, -82.5122</td>\n",
              "      <td></td>\n",
              "      <td>covid-19 pandemic quarantinethese arethe peopl...</td>\n",
              "    </tr>\n",
              "    <tr>\n",
              "      <th>8</th>\n",
              "      <td>2020-04-09 18:44:30</td>\n",
              "      <td>51.60832483, -0.039755</td>\n",
              "      <td></td>\n",
              "      <td>Today U-Build and @Buildingbloqs joined the na...</td>\n",
              "    </tr>\n",
              "    <tr>\n",
              "      <th>9</th>\n",
              "      <td>2020-04-09 18:44:12</td>\n",
              "      <td>29.9014205, -97.99685148</td>\n",
              "      <td></td>\n",
              "      <td>Join us in ringing bells to thank our doctors,...</td>\n",
              "    </tr>\n",
              "    <tr>\n",
              "      <th>10</th>\n",
              "      <td>2020-04-09 18:43:40</td>\n",
              "      <td>-25.7533, 28.1869</td>\n",
              "      <td>lockdown COVID_19 CoronaVirus</td>\n",
              "      <td>His Excellency President Ramaphosa has extende...</td>\n",
              "    </tr>\n",
              "    <tr>\n",
              "      <th>11</th>\n",
              "      <td>2020-04-09 19:11:11</td>\n",
              "      <td>40.78694444, -73.97527778</td>\n",
              "      <td></td>\n",
              "      <td>This is a very sad day for us. Our dear Roy wh...</td>\n",
              "    </tr>\n",
              "    <tr>\n",
              "      <th>12</th>\n",
              "      <td>2020-04-09 19:09:44</td>\n",
              "      <td>39.9527, -75.1651</td>\n",
              "      <td>MOOD</td>\n",
              "      <td>#MOODPhoto 1: covid you f*ckerPhotos 2-5: ART ...</td>\n",
              "    </tr>\n",
              "    <tr>\n",
              "      <th>13</th>\n",
              "      <td>2020-04-09 19:09:22</td>\n",
              "      <td>51.45470232, -2.61821884</td>\n",
              "      <td>nhs keyworkers covid nhs support love nhs nurs...</td>\n",
              "      <td>Thank you to all the #nhs and #keyworkers for ...</td>\n",
              "    </tr>\n",
              "    <tr>\n",
              "      <th>14</th>\n",
              "      <td>2020-04-09 19:08:27</td>\n",
              "      <td>38.3503987, -122.7061249</td>\n",
              "      <td></td>\n",
              "      <td>As COVID-19 continues to advance throughout th...</td>\n",
              "    </tr>\n",
              "    <tr>\n",
              "      <th>15</th>\n",
              "      <td>2020-04-09 19:08:14</td>\n",
              "      <td>38.61700854, -76.92659334</td>\n",
              "      <td></td>\n",
              "      <td>Yeezy Desert Boot OilSize 8.5 $280 Brand NewNO...</td>\n",
              "    </tr>\n",
              "    <tr>\n",
              "      <th>16</th>\n",
              "      <td>2020-04-09 19:08:01</td>\n",
              "      <td>43.64924, -79.92666</td>\n",
              "      <td>covid coviÌd19 socialdistancing pharmacy phar...</td>\n",
              "      <td>Some tips to reduce your risk of catching COVI...</td>\n",
              "    </tr>\n",
              "    <tr>\n",
              "      <th>17</th>\n",
              "      <td>2020-04-05 23:59:27</td>\n",
              "      <td>39.6, -107.9</td>\n",
              "      <td></td>\n",
              "      <td>My first long stretch on the road with my bike...</td>\n",
              "    </tr>\n",
              "    <tr>\n",
              "      <th>18</th>\n",
              "      <td>2020-04-05 23:57:37</td>\n",
              "      <td>40.6966, -80.0122</td>\n",
              "      <td>russianblue catlife pittsburgh covid remax rea...</td>\n",
              "      <td>Love this handsome boy! #russianblue #catlife ...</td>\n",
              "    </tr>\n",
              "    <tr>\n",
              "      <th>19</th>\n",
              "      <td>2020-04-05 19:06:34</td>\n",
              "      <td>5.55, -0.2</td>\n",
              "      <td>kwamedealz covid staysafe stayathome delivery</td>\n",
              "      <td>We do delivery.....Stay home and stay safe Pla...</td>\n",
              "    </tr>\n",
              "    <tr>\n",
              "      <th>20</th>\n",
              "      <td>2020-04-09 19:54:54</td>\n",
              "      <td>33.66855942, -117.76464522</td>\n",
              "      <td></td>\n",
              "      <td>So needed something healthy?!  Thank you every...</td>\n",
              "    </tr>\n",
              "    <tr>\n",
              "      <th>21</th>\n",
              "      <td>2020-04-09 19:53:44</td>\n",
              "      <td>12.7866276, 80.2250841</td>\n",
              "      <td></td>\n",
              "      <td>One side the Nature warns you with COVID-19 to...</td>\n",
              "    </tr>\n",
              "    <tr>\n",
              "      <th>22</th>\n",
              "      <td>2020-04-09 19:51:13</td>\n",
              "      <td>-25.4728008, 30.9804368</td>\n",
              "      <td>Coyotes_Group</td>\n",
              "      <td>Due to COVID-19 Lock Down Extension to 30th of...</td>\n",
              "    </tr>\n",
              "    <tr>\n",
              "      <th>23</th>\n",
              "      <td>2020-04-09 19:50:52</td>\n",
              "      <td>38.2578, -122.054</td>\n",
              "      <td>imsmiling covid_19</td>\n",
              "      <td>My sister-in-law made masks for us. #imsmiling...</td>\n",
              "    </tr>\n",
              "    <tr>\n",
              "      <th>24</th>\n",
              "      <td>2020-04-09 19:43:59</td>\n",
              "      <td>25.39690325, 55.42194818</td>\n",
              "      <td></td>\n",
              "      <td>COVID-19 is the abbreviated name for novel cor...</td>\n",
              "    </tr>\n",
              "    <tr>\n",
              "      <th>25</th>\n",
              "      <td>2020-04-09 19:42:29</td>\n",
              "      <td>40.7142, -74.0064</td>\n",
              "      <td></td>\n",
              "      <td>Freelance Isnt FreeIn response to the COVID-19...</td>\n",
              "    </tr>\n",
              "    <tr>\n",
              "      <th>26</th>\n",
              "      <td>2020-04-09 19:42:05</td>\n",
              "      <td>52.41113238, -1.4865922</td>\n",
              "      <td></td>\n",
              "      <td>Good Friday is the day of the crucifixion of o...</td>\n",
              "    </tr>\n",
              "    <tr>\n",
              "      <th>27</th>\n",
              "      <td>2020-04-09 19:41:39</td>\n",
              "      <td>33.45332358, -112.07426934</td>\n",
              "      <td></td>\n",
              "      <td>COVID sucks: It's taken too much from everyone...</td>\n",
              "    </tr>\n",
              "    <tr>\n",
              "      <th>28</th>\n",
              "      <td>2020-04-09 19:41:18</td>\n",
              "      <td>51.47427481, -0.02250642</td>\n",
              "      <td>covid london</td>\n",
              "      <td>#covid-19 diaries. Same view. Different perspe...</td>\n",
              "    </tr>\n",
              "    <tr>\n",
              "      <th>29</th>\n",
              "      <td>2020-04-09 19:40:04</td>\n",
              "      <td>40.9127, -73.8383</td>\n",
              "      <td>nystrong covid_19 socialdistancing survival lo...</td>\n",
              "      <td>Don't Worry, Be Happy#nystrong From yesterday'...</td>\n",
              "    </tr>\n",
              "    <tr>\n",
              "      <th>...</th>\n",
              "      <td>...</td>\n",
              "      <td>...</td>\n",
              "      <td>...</td>\n",
              "      <td>...</td>\n",
              "    </tr>\n",
              "    <tr>\n",
              "      <th>3085</th>\n",
              "      <td>2020-05-06 16:21:02</td>\n",
              "      <td>45.63697547, -73.56726563</td>\n",
              "      <td></td>\n",
              "      <td>Fighting Stigma  Do early surveillance, contac...</td>\n",
              "    </tr>\n",
              "    <tr>\n",
              "      <th>3086</th>\n",
              "      <td>2020-05-06 16:21:02</td>\n",
              "      <td>45.6677507, -73.47935661</td>\n",
              "      <td></td>\n",
              "      <td>Fighting Stigma : Parents urged not to ignore ...</td>\n",
              "    </tr>\n",
              "    <tr>\n",
              "      <th>3087</th>\n",
              "      <td>2020-05-06 16:20:09</td>\n",
              "      <td>43.0, 12.0</td>\n",
              "      <td>Covid_19 letsbeatit jamsession regrann</td>\n",
              "      <td>Reposted from @daw84074969 Shot from Frog Covi...</td>\n",
              "    </tr>\n",
              "    <tr>\n",
              "      <th>3088</th>\n",
              "      <td>2020-05-06 16:19:20</td>\n",
              "      <td>47.2414, -122.459</td>\n",
              "      <td></td>\n",
              "      <td>While we look for signs that weve reached a pl...</td>\n",
              "    </tr>\n",
              "    <tr>\n",
              "      <th>3089</th>\n",
              "      <td>2020-05-06 16:17:39</td>\n",
              "      <td>6.45306, 3.39583</td>\n",
              "      <td>covid_19 coronavirus facemask staysafe maskupl...</td>\n",
              "      <td>Reposted from yedidati Bulk order sent out alr...</td>\n",
              "    </tr>\n",
              "    <tr>\n",
              "      <th>3090</th>\n",
              "      <td>2020-05-06 16:16:30</td>\n",
              "      <td>48.86408272, 2.30135857</td>\n",
              "      <td>paris eiffeltower toureiffel pontdelalma ecolo...</td>\n",
              "      <td>Paris in quarantine#paris #eiffeltower #tourei...</td>\n",
              "    </tr>\n",
              "    <tr>\n",
              "      <th>3091</th>\n",
              "      <td>2020-05-06 16:14:41</td>\n",
              "      <td>51.526, -0.078</td>\n",
              "      <td></td>\n",
              "      <td>Daily Walks Are Fun With This One One thing c...</td>\n",
              "    </tr>\n",
              "    <tr>\n",
              "      <th>3092</th>\n",
              "      <td>2020-05-06 16:14:20</td>\n",
              "      <td>33.79662937, -111.96218808</td>\n",
              "      <td>careers nowhiring quarantinelife covid work job</td>\n",
              "      <td>Need a job? Get one.</td>\n",
              "    </tr>\n",
              "    <tr>\n",
              "      <th>3093</th>\n",
              "      <td>2020-05-06 16:13:40</td>\n",
              "      <td>34.07375505, -118.33470047</td>\n",
              "      <td></td>\n",
              "      <td>Started going back to the gym at the end of Ja...</td>\n",
              "    </tr>\n",
              "    <tr>\n",
              "      <th>3094</th>\n",
              "      <td>2020-05-06 16:12:24</td>\n",
              "      <td>39.2973356, -76.6171864</td>\n",
              "      <td>covid</td>\n",
              "      <td>I learned a whole new skill during #covid. We ...</td>\n",
              "    </tr>\n",
              "    <tr>\n",
              "      <th>3095</th>\n",
              "      <td>2020-05-06 16:12:17</td>\n",
              "      <td>28.68568, -81.40394</td>\n",
              "      <td>covid19 covid Coronavirus</td>\n",
              "      <td>Make sure to check out Unique Creations 504 @M...</td>\n",
              "    </tr>\n",
              "    <tr>\n",
              "      <th>3096</th>\n",
              "      <td>2020-05-06 16:11:04</td>\n",
              "      <td>28.68568, -81.40394</td>\n",
              "      <td>covid19 covid Coronavirus</td>\n",
              "      <td>Make sure to check out Unique Creations 504 @M...</td>\n",
              "    </tr>\n",
              "    <tr>\n",
              "      <th>3097</th>\n",
              "      <td>2020-05-06 16:10:34</td>\n",
              "      <td>48.47593351, -81.32806152</td>\n",
              "      <td></td>\n",
              "      <td>Ontario Northland issues temporary layoff noti...</td>\n",
              "    </tr>\n",
              "    <tr>\n",
              "      <th>3098</th>\n",
              "      <td>2020-05-06 16:10:10</td>\n",
              "      <td>35.323742, -80.738166</td>\n",
              "      <td></td>\n",
              "      <td>How to Keep Clients and Get New Ones During CO...</td>\n",
              "    </tr>\n",
              "    <tr>\n",
              "      <th>3099</th>\n",
              "      <td>2020-05-06 16:08:04</td>\n",
              "      <td>37.72971543, -85.88310701</td>\n",
              "      <td></td>\n",
              "      <td>Free Insurance Quote You could earn $22 an hou...</td>\n",
              "    </tr>\n",
              "    <tr>\n",
              "      <th>3100</th>\n",
              "      <td>2020-05-06 16:07:53</td>\n",
              "      <td>28.109484, -82.503829</td>\n",
              "      <td>HeroesWearOrange Nursing</td>\n",
              "      <td>Our courageous, compassionate nursing heroes h...</td>\n",
              "    </tr>\n",
              "    <tr>\n",
              "      <th>3101</th>\n",
              "      <td>2020-05-06 16:07:25</td>\n",
              "      <td>33.7, 73.1667</td>\n",
              "      <td></td>\n",
              "      <td>Hope for the best prepare for the worst. This ...</td>\n",
              "    </tr>\n",
              "    <tr>\n",
              "      <th>3102</th>\n",
              "      <td>2020-05-06 16:07:24</td>\n",
              "      <td>39.9527, -75.1651</td>\n",
              "      <td>corona covid_19</td>\n",
              "      <td>Im not letting no #corona #covid_19 stop me! @...</td>\n",
              "    </tr>\n",
              "    <tr>\n",
              "      <th>3103</th>\n",
              "      <td>2020-05-06 16:05:32</td>\n",
              "      <td>40.78878, -74.01715</td>\n",
              "      <td>quarantine coronavirus covid covid19</td>\n",
              "      <td>Happy Wednesday!!! Current mood happy 6 de May...</td>\n",
              "    </tr>\n",
              "    <tr>\n",
              "      <th>3104</th>\n",
              "      <td>2020-05-06 16:50:01</td>\n",
              "      <td>34.1722, -118.378</td>\n",
              "      <td></td>\n",
              "      <td>I should be in Vegas grubbing  and playing $1 ...</td>\n",
              "    </tr>\n",
              "    <tr>\n",
              "      <th>3105</th>\n",
              "      <td>2020-05-06 16:49:01</td>\n",
              "      <td>42.59954911, -83.34880336</td>\n",
              "      <td>peopleskate peoplesnowboard westayhomeharder</td>\n",
              "      <td>People Covid work-at-home wearLightweight wind...</td>\n",
              "    </tr>\n",
              "    <tr>\n",
              "      <th>3106</th>\n",
              "      <td>2020-05-06 16:48:03</td>\n",
              "      <td>51.45, -2.58333</td>\n",
              "      <td></td>\n",
              "      <td>I was lucky enough to be a guest on the latest...</td>\n",
              "    </tr>\n",
              "    <tr>\n",
              "      <th>3107</th>\n",
              "      <td>2020-05-06 16:45:37</td>\n",
              "      <td>49.88938, -97.14297</td>\n",
              "      <td></td>\n",
              "      <td>Thanks to everyone who purchased a Florence te...</td>\n",
              "    </tr>\n",
              "    <tr>\n",
              "      <th>3108</th>\n",
              "      <td>2020-05-06 16:44:28</td>\n",
              "      <td>40.7142, -74.0064</td>\n",
              "      <td></td>\n",
              "      <td>The Covid-19 foster mission cats, Charlie Brow...</td>\n",
              "    </tr>\n",
              "    <tr>\n",
              "      <th>3109</th>\n",
              "      <td>2020-05-06 16:43:41</td>\n",
              "      <td>49.2842, -123.121</td>\n",
              "      <td>yvr coffee vancouver downtownvancouver stayhom...</td>\n",
              "      <td>COVID-19 WFH Journal - workday 33 (morning cof...</td>\n",
              "    </tr>\n",
              "    <tr>\n",
              "      <th>3110</th>\n",
              "      <td>2020-05-06 16:43:02</td>\n",
              "      <td>50.70365, 3.09281</td>\n",
              "      <td>france covid19 nord dacae</td>\n",
              "      <td>Covid-19 kit. #france #covid19 #nord #dacae @ ...</td>\n",
              "    </tr>\n",
              "    <tr>\n",
              "      <th>3111</th>\n",
              "      <td>2020-05-06 16:42:02</td>\n",
              "      <td>51.62065, 0.30351</td>\n",
              "      <td>haircuts hairstyle barbers hairdressing covid ...</td>\n",
              "      <td>Little De'Milia junior, Posing on the newly de...</td>\n",
              "    </tr>\n",
              "    <tr>\n",
              "      <th>3112</th>\n",
              "      <td>2020-05-06 16:40:36</td>\n",
              "      <td>49.2819, -123.1204</td>\n",
              "      <td></td>\n",
              "      <td>Join Olisa Charity- BDM - University Of Canada...</td>\n",
              "    </tr>\n",
              "    <tr>\n",
              "      <th>3113</th>\n",
              "      <td>2020-05-06 16:40:25</td>\n",
              "      <td>45.55883, -122.63513</td>\n",
              "      <td>covidconfessions covidcooking fishandchips tak...</td>\n",
              "      <td>Covid confessions: I...like...so hate cooking....</td>\n",
              "    </tr>\n",
              "    <tr>\n",
              "      <th>3114</th>\n",
              "      <td>2020-05-06 16:38:02</td>\n",
              "      <td>38.65152546, -77.31670955</td>\n",
              "      <td></td>\n",
              "      <td>COVID-19 REOPENING GUIDELINESWe hope you are w...</td>\n",
              "    </tr>\n",
              "  </tbody>\n",
              "</table>\n",
              "<p>3115 rows × 4 columns</p>\n",
              "</div>"
            ],
            "text/plain": [
              "                 datetime                 coordinates  \\\n",
              "0     2020-04-09 18:35:26    42.9607521, -80.05056563   \n",
              "1     2020-04-09 18:34:29                53.55, -3.05   \n",
              "2     2020-04-09 18:48:31   40.89245946, -74.13999694   \n",
              "3     2020-04-09 18:48:21  21.31752233, -157.92366028   \n",
              "4     2020-04-09 18:47:04   48.47593351, -81.32806152   \n",
              "5     2020-04-09 18:46:22         33.19277, -96.99155   \n",
              "6     2020-04-09 18:45:39              33.67, -117.78   \n",
              "7     2020-04-09 18:45:19           40.0675, -82.5122   \n",
              "8     2020-04-09 18:44:30      51.60832483, -0.039755   \n",
              "9     2020-04-09 18:44:12    29.9014205, -97.99685148   \n",
              "10    2020-04-09 18:43:40           -25.7533, 28.1869   \n",
              "11    2020-04-09 19:11:11   40.78694444, -73.97527778   \n",
              "12    2020-04-09 19:09:44           39.9527, -75.1651   \n",
              "13    2020-04-09 19:09:22    51.45470232, -2.61821884   \n",
              "14    2020-04-09 19:08:27    38.3503987, -122.7061249   \n",
              "15    2020-04-09 19:08:14   38.61700854, -76.92659334   \n",
              "16    2020-04-09 19:08:01         43.64924, -79.92666   \n",
              "17    2020-04-05 23:59:27                39.6, -107.9   \n",
              "18    2020-04-05 23:57:37           40.6966, -80.0122   \n",
              "19    2020-04-05 19:06:34                  5.55, -0.2   \n",
              "20    2020-04-09 19:54:54  33.66855942, -117.76464522   \n",
              "21    2020-04-09 19:53:44      12.7866276, 80.2250841   \n",
              "22    2020-04-09 19:51:13     -25.4728008, 30.9804368   \n",
              "23    2020-04-09 19:50:52           38.2578, -122.054   \n",
              "24    2020-04-09 19:43:59    25.39690325, 55.42194818   \n",
              "25    2020-04-09 19:42:29           40.7142, -74.0064   \n",
              "26    2020-04-09 19:42:05     52.41113238, -1.4865922   \n",
              "27    2020-04-09 19:41:39  33.45332358, -112.07426934   \n",
              "28    2020-04-09 19:41:18    51.47427481, -0.02250642   \n",
              "29    2020-04-09 19:40:04           40.9127, -73.8383   \n",
              "...                   ...                         ...   \n",
              "3085  2020-05-06 16:21:02   45.63697547, -73.56726563   \n",
              "3086  2020-05-06 16:21:02    45.6677507, -73.47935661   \n",
              "3087  2020-05-06 16:20:09                  43.0, 12.0   \n",
              "3088  2020-05-06 16:19:20           47.2414, -122.459   \n",
              "3089  2020-05-06 16:17:39            6.45306, 3.39583   \n",
              "3090  2020-05-06 16:16:30     48.86408272, 2.30135857   \n",
              "3091  2020-05-06 16:14:41              51.526, -0.078   \n",
              "3092  2020-05-06 16:14:20  33.79662937, -111.96218808   \n",
              "3093  2020-05-06 16:13:40  34.07375505, -118.33470047   \n",
              "3094  2020-05-06 16:12:24     39.2973356, -76.6171864   \n",
              "3095  2020-05-06 16:12:17         28.68568, -81.40394   \n",
              "3096  2020-05-06 16:11:04         28.68568, -81.40394   \n",
              "3097  2020-05-06 16:10:34   48.47593351, -81.32806152   \n",
              "3098  2020-05-06 16:10:10       35.323742, -80.738166   \n",
              "3099  2020-05-06 16:08:04   37.72971543, -85.88310701   \n",
              "3100  2020-05-06 16:07:53       28.109484, -82.503829   \n",
              "3101  2020-05-06 16:07:25               33.7, 73.1667   \n",
              "3102  2020-05-06 16:07:24           39.9527, -75.1651   \n",
              "3103  2020-05-06 16:05:32         40.78878, -74.01715   \n",
              "3104  2020-05-06 16:50:01           34.1722, -118.378   \n",
              "3105  2020-05-06 16:49:01   42.59954911, -83.34880336   \n",
              "3106  2020-05-06 16:48:03             51.45, -2.58333   \n",
              "3107  2020-05-06 16:45:37         49.88938, -97.14297   \n",
              "3108  2020-05-06 16:44:28           40.7142, -74.0064   \n",
              "3109  2020-05-06 16:43:41           49.2842, -123.121   \n",
              "3110  2020-05-06 16:43:02           50.70365, 3.09281   \n",
              "3111  2020-05-06 16:42:02           51.62065, 0.30351   \n",
              "3112  2020-05-06 16:40:36          49.2819, -123.1204   \n",
              "3113  2020-05-06 16:40:25        45.55883, -122.63513   \n",
              "3114  2020-05-06 16:38:02   38.65152546, -77.31670955   \n",
              "\n",
              "                                                 hashes  \\\n",
              "0                                                         \n",
              "1                     covid postcovid19 quarantine dogs   \n",
              "2                                                         \n",
              "3     harley808 zeus808 storm808 lovemydogs thursday...   \n",
              "4                                                         \n",
              "5     whatdayisit covid shelterinplace kmarkrealtor ...   \n",
              "6                                                         \n",
              "7                                                         \n",
              "8                                                         \n",
              "9                                                         \n",
              "10                        lockdown COVID_19 CoronaVirus   \n",
              "11                                                        \n",
              "12                                                 MOOD   \n",
              "13    nhs keyworkers covid nhs support love nhs nurs...   \n",
              "14                                                        \n",
              "15                                                        \n",
              "16    covid coviÌd19 socialdistancing pharmacy phar...   \n",
              "17                                                        \n",
              "18    russianblue catlife pittsburgh covid remax rea...   \n",
              "19        kwamedealz covid staysafe stayathome delivery   \n",
              "20                                                        \n",
              "21                                                        \n",
              "22                                        Coyotes_Group   \n",
              "23                                   imsmiling covid_19   \n",
              "24                                                        \n",
              "25                                                        \n",
              "26                                                        \n",
              "27                                                        \n",
              "28                                         covid london   \n",
              "29    nystrong covid_19 socialdistancing survival lo...   \n",
              "...                                                 ...   \n",
              "3085                                                      \n",
              "3086                                                      \n",
              "3087             Covid_19 letsbeatit jamsession regrann   \n",
              "3088                                                      \n",
              "3089  covid_19 coronavirus facemask staysafe maskupl...   \n",
              "3090  paris eiffeltower toureiffel pontdelalma ecolo...   \n",
              "3091                                                      \n",
              "3092    careers nowhiring quarantinelife covid work job   \n",
              "3093                                                      \n",
              "3094                                              covid   \n",
              "3095                          covid19 covid Coronavirus   \n",
              "3096                          covid19 covid Coronavirus   \n",
              "3097                                                      \n",
              "3098                                                      \n",
              "3099                                                      \n",
              "3100                           HeroesWearOrange Nursing   \n",
              "3101                                                      \n",
              "3102                                    corona covid_19   \n",
              "3103               quarantine coronavirus covid covid19   \n",
              "3104                                                      \n",
              "3105       peopleskate peoplesnowboard westayhomeharder   \n",
              "3106                                                      \n",
              "3107                                                      \n",
              "3108                                                      \n",
              "3109  yvr coffee vancouver downtownvancouver stayhom...   \n",
              "3110                          france covid19 nord dacae   \n",
              "3111  haircuts hairstyle barbers hairdressing covid ...   \n",
              "3112                                                      \n",
              "3113  covidconfessions covidcooking fishandchips tak...   \n",
              "3114                                                      \n",
              "\n",
              "                                                   text  \n",
              "0     Hey everyone , wont be streaming until this wh...  \n",
              "1     Top Tip Thursday  Once lockdown is over, have ...  \n",
              "2     Palestinian national heroine Bisan Al-Jubeh (u...  \n",
              "3     Thankful Thursday #harley808 #zeus808 #storm80...  \n",
              "4     Neighbourhood getting loud for healthcare work...  \n",
              "5     Its Thursday in case anyone was wondering #wha...  \n",
              "6     From @ienearth MONDAY APRIL 13THJoin Indigenou...  \n",
              "7     covid-19 pandemic quarantinethese arethe peopl...  \n",
              "8     Today U-Build and @Buildingbloqs joined the na...  \n",
              "9     Join us in ringing bells to thank our doctors,...  \n",
              "10    His Excellency President Ramaphosa has extende...  \n",
              "11    This is a very sad day for us. Our dear Roy wh...  \n",
              "12    #MOODPhoto 1: covid you f*ckerPhotos 2-5: ART ...  \n",
              "13    Thank you to all the #nhs and #keyworkers for ...  \n",
              "14    As COVID-19 continues to advance throughout th...  \n",
              "15    Yeezy Desert Boot OilSize 8.5 $280 Brand NewNO...  \n",
              "16    Some tips to reduce your risk of catching COVI...  \n",
              "17    My first long stretch on the road with my bike...  \n",
              "18    Love this handsome boy! #russianblue #catlife ...  \n",
              "19    We do delivery.....Stay home and stay safe Pla...  \n",
              "20    So needed something healthy?!  Thank you every...  \n",
              "21    One side the Nature warns you with COVID-19 to...  \n",
              "22    Due to COVID-19 Lock Down Extension to 30th of...  \n",
              "23    My sister-in-law made masks for us. #imsmiling...  \n",
              "24    COVID-19 is the abbreviated name for novel cor...  \n",
              "25    Freelance Isnt FreeIn response to the COVID-19...  \n",
              "26    Good Friday is the day of the crucifixion of o...  \n",
              "27    COVID sucks: It's taken too much from everyone...  \n",
              "28    #covid-19 diaries. Same view. Different perspe...  \n",
              "29    Don't Worry, Be Happy#nystrong From yesterday'...  \n",
              "...                                                 ...  \n",
              "3085  Fighting Stigma  Do early surveillance, contac...  \n",
              "3086  Fighting Stigma : Parents urged not to ignore ...  \n",
              "3087  Reposted from @daw84074969 Shot from Frog Covi...  \n",
              "3088  While we look for signs that weve reached a pl...  \n",
              "3089  Reposted from yedidati Bulk order sent out alr...  \n",
              "3090  Paris in quarantine#paris #eiffeltower #tourei...  \n",
              "3091   Daily Walks Are Fun With This One One thing c...  \n",
              "3092                              Need a job? Get one.   \n",
              "3093  Started going back to the gym at the end of Ja...  \n",
              "3094  I learned a whole new skill during #covid. We ...  \n",
              "3095  Make sure to check out Unique Creations 504 @M...  \n",
              "3096  Make sure to check out Unique Creations 504 @M...  \n",
              "3097  Ontario Northland issues temporary layoff noti...  \n",
              "3098  How to Keep Clients and Get New Ones During CO...  \n",
              "3099  Free Insurance Quote You could earn $22 an hou...  \n",
              "3100  Our courageous, compassionate nursing heroes h...  \n",
              "3101  Hope for the best prepare for the worst. This ...  \n",
              "3102  Im not letting no #corona #covid_19 stop me! @...  \n",
              "3103  Happy Wednesday!!! Current mood happy 6 de May...  \n",
              "3104  I should be in Vegas grubbing  and playing $1 ...  \n",
              "3105  People Covid work-at-home wearLightweight wind...  \n",
              "3106  I was lucky enough to be a guest on the latest...  \n",
              "3107  Thanks to everyone who purchased a Florence te...  \n",
              "3108  The Covid-19 foster mission cats, Charlie Brow...  \n",
              "3109  COVID-19 WFH Journal - workday 33 (morning cof...  \n",
              "3110  Covid-19 kit. #france #covid19 #nord #dacae @ ...  \n",
              "3111  Little De'Milia junior, Posing on the newly de...  \n",
              "3112  Join Olisa Charity- BDM - University Of Canada...  \n",
              "3113  Covid confessions: I...like...so hate cooking....  \n",
              "3114  COVID-19 REOPENING GUIDELINESWe hope you are w...  \n",
              "\n",
              "[3115 rows x 4 columns]"
            ]
          },
          "metadata": {
            "tags": []
          },
          "execution_count": 10
        }
      ]
    },
    {
      "cell_type": "code",
      "metadata": {
        "id": "uIQ3928awkYG",
        "colab_type": "code",
        "colab": {},
        "outputId": "ddcd4273-8707-4937-a201-aa37af6e7ec9"
      },
      "source": [
        "from nltk.sentiment.vader import SentimentIntensityAnalyzer\n",
        "nltk.download('vader_lexicon')\n",
        "analyzer = SentimentIntensityAnalyzer()"
      ],
      "execution_count": 0,
      "outputs": [
        {
          "output_type": "stream",
          "text": [
            "[nltk_data] Downloading package vader_lexicon to\n",
            "[nltk_data]     /home/cicmila/nltk_data...\n",
            "[nltk_data]   Package vader_lexicon is already up-to-date!\n"
          ],
          "name": "stdout"
        }
      ]
    },
    {
      "cell_type": "code",
      "metadata": {
        "id": "Ei9EQpdLwkYY",
        "colab_type": "code",
        "colab": {}
      },
      "source": [
        "def analyze_sentiment(text):\n",
        "    '''\n",
        "    Utility function to classify the polarity of a tweet\n",
        "    using nltk. analysis variable returns the following dict: \n",
        "    {'neg': 0.122, 'neu': 0.641, 'pos': 0.237, 'compound': 0.4215}\n",
        "    The compound value here conveys the overall positive or negative user experience.\n",
        "    Examples: \n",
        "    https://www.programcreek.com/python/example/100005/nltk.sentiment.vader.SentimentIntensityAnalyzer\n",
        "    https://opensourceforu.com/2016/12/analysing-sentiments-nltk/\n",
        "    '''\n",
        "    analysis = analyzer.polarity_scores(text)\n",
        "    \n",
        "    return analysis['compound']"
      ],
      "execution_count": 0,
      "outputs": []
    },
    {
      "cell_type": "code",
      "metadata": {
        "id": "QtayV1E-wkYw",
        "colab_type": "code",
        "colab": {}
      },
      "source": [
        "df['score_sentiment'] = df['text'].apply(analyze_sentiment)"
      ],
      "execution_count": 0,
      "outputs": []
    },
    {
      "cell_type": "code",
      "metadata": {
        "id": "wxGkXceOwkZA",
        "colab_type": "code",
        "colab": {},
        "outputId": "272630f9-6718-4406-ca9a-d30a7a698bfe"
      },
      "source": [
        "df['text'][11]"
      ],
      "execution_count": 0,
      "outputs": [
        {
          "output_type": "execute_result",
          "data": {
            "text/plain": [
              "'This is a very sad day for us. Our dear Roy who has been a member of @lanewyorkina family for years, unfortunately lost his mother to COVID-19. She was so loving and kind and that love truly echoes through him. '"
            ]
          },
          "metadata": {
            "tags": []
          },
          "execution_count": 14
        }
      ]
    },
    {
      "cell_type": "code",
      "metadata": {
        "id": "H0W4FMouwkZP",
        "colab_type": "code",
        "colab": {},
        "outputId": "318a5c8b-ee65-4795-f01b-64e64d5a3a99"
      },
      "source": [
        "sns.set_style(\"darkgrid\")\n",
        "\n",
        "df['score_sentiment'].hist()\n",
        "plt.title('Sentiment')\n",
        "plt.ylabel('# of tweets')\n",
        "plt.xlabel('score')\n",
        "print('Positive tweet:', df['text'][df['score_sentiment'].values.argmax()])\n",
        "print('')\n",
        "print('Neutral tweet:', df['text'][5])\n",
        "print('')\n",
        "print('Negative tweet:', df['text'][df['score_sentiment'].values.argmin()])"
      ],
      "execution_count": 0,
      "outputs": [
        {
          "output_type": "stream",
          "text": [
            "Positive tweet: Due to Covid we are unable to borrow dresses for Lotto at the moment, but this week I was SO kindly gifted this dress from Sunshine Coast label loulouaustralia thank you for the lovely surprise. And thanks to \n",
            "\n",
            "Neutral tweet: Its Thursday in case anyone was wondering #whatdayisit #covid #shelterinplace #kmarkrealtor #era #workweek #staysafe @ Oak Point, Texas \n",
            "\n",
            "Negative tweet: Stupid, worthless, no good, goddamn, freeloading son of a bitch. Retarded, big mouth, know-it-all, asshole, jerk. You forgot ugly, lazy and disrespectful. #childofthe80s #genx #stayhome #staysafe #covid_19 #covid19 \n"
          ],
          "name": "stdout"
        },
        {
          "output_type": "display_data",
          "data": {
            "image/png": "[encoded data removed]",
            "text/plain": [
              "<Figure size 432x288 with 1 Axes>"
            ]
          },
          "metadata": {
            "tags": []
          }
        }
      ]
    },
    {
      "cell_type": "code",
      "metadata": {
        "id": "Htme6YHewkZh",
        "colab_type": "code",
        "colab": {}
      },
      "source": [
        "def sentiment_score(compound):\n",
        "    if compound > 0.5:\n",
        "        return 1\n",
        "    elif compound < -0.5:\n",
        "        return -1\n",
        "    else:\n",
        "        return 0"
      ],
      "execution_count": 0,
      "outputs": []
    },
    {
      "cell_type": "code",
      "metadata": {
        "id": "aCl022TTwkZu",
        "colab_type": "code",
        "colab": {},
        "outputId": "32013391-795e-4ba8-a53d-a7291b518cee"
      },
      "source": [
        "df['tweet_sentiment_score'] = df['score_sentiment'].apply(sentiment_score)\n",
        "df['tweet_sentiment_score'].value_counts()"
      ],
      "execution_count": 0,
      "outputs": [
        {
          "output_type": "execute_result",
          "data": {
            "text/plain": [
              " 0    1908\n",
              " 1     990\n",
              "-1     217\n",
              "Name: tweet_sentiment_score, dtype: int64"
            ]
          },
          "metadata": {
            "tags": []
          },
          "execution_count": 17
        }
      ]
    },
    {
      "cell_type": "code",
      "metadata": {
        "id": "DqVT8o2NwkZ7",
        "colab_type": "code",
        "colab": {}
      },
      "source": [
        "def sentiment_label(score):\n",
        "    if score == 1:\n",
        "        return 'positive'\n",
        "    elif score == -1:\n",
        "        return 'negative'\n",
        "    else:\n",
        "        return 'neutral'"
      ],
      "execution_count": 0,
      "outputs": []
    },
    {
      "cell_type": "code",
      "metadata": {
        "id": "D4suRXqYwkaE",
        "colab_type": "code",
        "colab": {}
      },
      "source": [
        "df['tweet_sentiment_label'] = df['tweet_sentiment_score'].apply(sentiment_label)"
      ],
      "execution_count": 0,
      "outputs": []
    },
    {
      "cell_type": "code",
      "metadata": {
        "id": "XIAtsDZCwkaQ",
        "colab_type": "code",
        "colab": {},
        "outputId": "df378e32-dbdc-4712-82c6-1d898d6d1899"
      },
      "source": [
        "df['tweet_sentiment_label'].value_counts()"
      ],
      "execution_count": 0,
      "outputs": [
        {
          "output_type": "execute_result",
          "data": {
            "text/plain": [
              "neutral     1908\n",
              "positive     990\n",
              "negative     217\n",
              "Name: tweet_sentiment_label, dtype: int64"
            ]
          },
          "metadata": {
            "tags": []
          },
          "execution_count": 20
        }
      ]
    },
    {
      "cell_type": "code",
      "metadata": {
        "id": "fCCMIDZGwkaa",
        "colab_type": "code",
        "colab": {},
        "outputId": "dadb85ad-4de8-4ee0-fe00-3367b1381799"
      },
      "source": [
        "sns.set_style(\"darkgrid\")\n",
        "fig, ax = plt.subplots(figsize=(8, 8))\n",
        "counts = df.tweet_sentiment_score.value_counts(normalize=True)\n",
        "sns.barplot(x=counts.index, y=counts, ax=ax)\n",
        "ax.set_xticklabels(['Negative', 'Neutral', 'Positive'])\n",
        "ax.set_ylabel(\"Percentage\")\n",
        "plt.savefig('sentiment.png')"
      ],
      "execution_count": 0,
      "outputs": [
        {
          "output_type": "display_data",
          "data": {
            "image/png": "[encoded data removed]",
            "text/plain": [
              "<Figure size 576x576 with 1 Axes>"
            ]
          },
          "metadata": {
            "tags": []
          }
        }
      ]
    },
    {
      "cell_type": "code",
      "metadata": {
        "id": "GyRMyoDiwkbB",
        "colab_type": "code",
        "colab": {},
        "outputId": "0168cff7-0ed2-4c2f-e5ef-e716609e17ba"
      },
      "source": [
        "df['text'][3088]"
      ],
      "execution_count": 0,
      "outputs": [
        {
          "output_type": "execute_result",
          "data": {
            "text/plain": [
              "'While we look for signs that weve reached a plateau in cases of COVID-19, the concern and fear of what will happen as businesses open up again is on all of our minds. This causes confusion about what an economic '"
            ]
          },
          "metadata": {
            "tags": []
          },
          "execution_count": 22
        }
      ]
    },
    {
      "cell_type": "code",
      "metadata": {
        "id": "tuJzuFftwkbQ",
        "colab_type": "code",
        "colab": {}
      },
      "source": [
        "for label,item in (('language', data['lang']), ('hashtags', hashes_single), ('score', df['tweet_sentiment_score']), ('country', data_frame['country'])):\n",
        "    pt = PrettyTable(field_names=[label, 'Count'])\n",
        "    c = Counter(item)\n",
        "    [pt.add_row(kv) for kv in c.most_common()[:10]] \n",
        "    pt.align[label],pt.align['Count']='l','r'\n",
        "    print(pt)"
      ],
      "execution_count": 0,
      "outputs": []
    },
    {
      "cell_type": "code",
      "metadata": {
        "id": "tdFR7F5hwkbY",
        "colab_type": "code",
        "colab": {}
      },
      "source": [
        "df"
      ],
      "execution_count": 0,
      "outputs": []
    },
    {
      "cell_type": "code",
      "metadata": {
        "id": "LVfKpnrGwkbp",
        "colab_type": "code",
        "colab": {},
        "outputId": "5305ede8-9890-45d5-a406-2b949d470a35"
      },
      "source": [
        "sns.set_style(\"darkgrid\")\n",
        "\n",
        "x = hashes_single\n",
        "#x = x[x!='covid']\n",
        "#x = x[x!='coronavirus']\n",
        "#x = x[x!='covid19']\n",
        "#x = x[x!='coviìd19']\n",
        "#x = x[x!='corona']\n",
        "\n",
        "\n",
        "x = x.value_counts(1).head(10)\n",
        "x.plot(kind='bar',figsize=(10,6),fontsize=13,color='C0')\n",
        "plt.ylabel('% of Total Tweets', fontsize=13)\n",
        "plt.xlabel('Hashtag', fontsize=13)"
      ],
      "execution_count": 0,
      "outputs": [
        {
          "output_type": "execute_result",
          "data": {
            "text/plain": [
              "Text(0.5,0,'Hashtag')"
            ]
          },
          "metadata": {
            "tags": []
          },
          "execution_count": 24
        },
        {
          "output_type": "display_data",
          "data": {
            "image/png": "[encoded data removed]",
            "text/plain": [
              "<Figure size 720x432 with 1 Axes>"
            ]
          },
          "metadata": {
            "tags": []
          }
        }
      ]
    },
    {
      "cell_type": "code",
      "metadata": {
        "id": "HgA39o0rwkb0",
        "colab_type": "code",
        "colab": {},
        "outputId": "5131bcfa-9e5c-4ddb-c2cf-f5f32ade91c9"
      },
      "source": [
        "sns.set_style(\"darkgrid\")\n",
        "x = data['lang'].value_counts(1).head(10)\n",
        "x.plot(kind='bar',figsize=(10,6),fontsize=13,color='C1')\n",
        "plt.ylabel('% of Total Tweets', fontsize=13)\n",
        "plt.xlabel('Language', fontsize=13)"
      ],
      "execution_count": 0,
      "outputs": [
        {
          "output_type": "execute_result",
          "data": {
            "text/plain": [
              "Text(0.5,0,'Language')"
            ]
          },
          "metadata": {
            "tags": []
          },
          "execution_count": 25
        },
        {
          "output_type": "display_data",
          "data": {
            "image/png": "[encoded data removed]",
            "text/plain": [
              "<Figure size 720x432 with 1 Axes>"
            ]
          },
          "metadata": {
            "tags": []
          }
        }
      ]
    },
    {
      "cell_type": "code",
      "metadata": {
        "id": "1xo-5ybkwkcH",
        "colab_type": "code",
        "colab": {}
      },
      "source": [
        "coordinates = []\n",
        "for i,pair in enumerate(df['coordinates']):\n",
        "    coordinates.append(df['coordinates'][i].split(','))"
      ],
      "execution_count": 0,
      "outputs": []
    },
    {
      "cell_type": "code",
      "metadata": {
        "id": "O_DC0fqHwkcS",
        "colab_type": "code",
        "colab": {}
      },
      "source": [
        "coordinates = [[float(j) for j in i] for i in coordinates]"
      ],
      "execution_count": 0,
      "outputs": []
    },
    {
      "cell_type": "code",
      "metadata": {
        "id": "oXOhSY8ewkcb",
        "colab_type": "code",
        "colab": {}
      },
      "source": [
        "zoom_start = 3\n",
        "\n",
        "m = folium.Map(zoom_start=zoom_start, tiles='stamentoner',)\n",
        "\n",
        "HeatMap(coordinates).add_to(m)\n",
        "m.save('map.html')"
      ],
      "execution_count": 0,
      "outputs": []
    },
    {
      "cell_type": "code",
      "metadata": {
        "id": "76mCF09Dwkck",
        "colab_type": "code",
        "colab": {},
        "outputId": "e9d563ff-69fa-47e8-a87f-b9acb049dec9"
      },
      "source": [
        "df.describe()"
      ],
      "execution_count": 0,
      "outputs": [
        {
          "output_type": "execute_result",
          "data": {
            "text/html": [
              "<div>\n",
              "<style scoped>\n",
              "    .dataframe tbody tr th:only-of-type {\n",
              "        vertical-align: middle;\n",
              "    }\n",
              "\n",
              "    .dataframe tbody tr th {\n",
              "        vertical-align: top;\n",
              "    }\n",
              "\n",
              "    .dataframe thead th {\n",
              "        text-align: right;\n",
              "    }\n",
              "</style>\n",
              "<table border=\"1\" class=\"dataframe\">\n",
              "  <thead>\n",
              "    <tr style=\"text-align: right;\">\n",
              "      <th></th>\n",
              "      <th>score_sentiment</th>\n",
              "      <th>tweet_sentiment_score</th>\n",
              "    </tr>\n",
              "  </thead>\n",
              "  <tbody>\n",
              "    <tr>\n",
              "      <th>count</th>\n",
              "      <td>3115.000000</td>\n",
              "      <td>3115.000000</td>\n",
              "    </tr>\n",
              "    <tr>\n",
              "      <th>mean</th>\n",
              "      <td>0.224275</td>\n",
              "      <td>0.248154</td>\n",
              "    </tr>\n",
              "    <tr>\n",
              "      <th>std</th>\n",
              "      <td>0.441866</td>\n",
              "      <td>0.570968</td>\n",
              "    </tr>\n",
              "    <tr>\n",
              "      <th>min</th>\n",
              "      <td>-0.976900</td>\n",
              "      <td>-1.000000</td>\n",
              "    </tr>\n",
              "    <tr>\n",
              "      <th>25%</th>\n",
              "      <td>0.000000</td>\n",
              "      <td>0.000000</td>\n",
              "    </tr>\n",
              "    <tr>\n",
              "      <th>50%</th>\n",
              "      <td>0.154300</td>\n",
              "      <td>0.000000</td>\n",
              "    </tr>\n",
              "    <tr>\n",
              "      <th>75%</th>\n",
              "      <td>0.599850</td>\n",
              "      <td>1.000000</td>\n",
              "    </tr>\n",
              "    <tr>\n",
              "      <th>max</th>\n",
              "      <td>0.980000</td>\n",
              "      <td>1.000000</td>\n",
              "    </tr>\n",
              "  </tbody>\n",
              "</table>\n",
              "</div>"
            ],
            "text/plain": [
              "       score_sentiment  tweet_sentiment_score\n",
              "count      3115.000000            3115.000000\n",
              "mean          0.224275               0.248154\n",
              "std           0.441866               0.570968\n",
              "min          -0.976900              -1.000000\n",
              "25%           0.000000               0.000000\n",
              "50%           0.154300               0.000000\n",
              "75%           0.599850               1.000000\n",
              "max           0.980000               1.000000"
            ]
          },
          "metadata": {
            "tags": []
          },
          "execution_count": 29
        }
      ]
    },
    {
      "cell_type": "code",
      "metadata": {
        "id": "iOtG2uGQwkcs",
        "colab_type": "code",
        "colab": {},
        "outputId": "fa402fab-3cab-4c71-b0d8-69f7f4db830b"
      },
      "source": [
        "hashes_single.describe()"
      ],
      "execution_count": 0,
      "outputs": [
        {
          "output_type": "execute_result",
          "data": {
            "text/plain": [
              "count        10524\n",
              "unique        5258\n",
              "top       covid_19\n",
              "freq           619\n",
              "dtype: object"
            ]
          },
          "metadata": {
            "tags": []
          },
          "execution_count": 30
        }
      ]
    },
    {
      "cell_type": "code",
      "metadata": {
        "id": "26e3kUZuwkc1",
        "colab_type": "code",
        "colab": {}
      },
      "source": [
        "data_frame = pd.DataFrame(columns=(\"X\", \"Y\"), data=coordinates)"
      ],
      "execution_count": 0,
      "outputs": []
    },
    {
      "cell_type": "code",
      "metadata": {
        "id": "9D9UsO53wkc9",
        "colab_type": "code",
        "colab": {}
      },
      "source": [
        "zoom_start = 3\n",
        "\n",
        "m = folium.Map(zoom_start=zoom_start, tiles='StamenWatercolor',)\n",
        "\n",
        "HeatMap(data_frame,radius=20, blur=10).add_to(m)\n",
        "m.save('map.html')"
      ],
      "execution_count": 0,
      "outputs": []
    },
    {
      "cell_type": "code",
      "metadata": {
        "id": "nH_tQ9euwkdF",
        "colab_type": "code",
        "colab": {}
      },
      "source": [
        "from geopy.geocoders import Nominatim"
      ],
      "execution_count": 0,
      "outputs": []
    },
    {
      "cell_type": "code",
      "metadata": {
        "id": "M3Qx8bXPwkdO",
        "colab_type": "code",
        "colab": {}
      },
      "source": [
        "geolocator = Nominatim(user_agent=\"corona_map_sentiment\")"
      ],
      "execution_count": 0,
      "outputs": []
    },
    {
      "cell_type": "code",
      "metadata": {
        "id": "KF50IB0zwkdW",
        "colab_type": "code",
        "colab": {},
        "outputId": "08963dd6-7317-4084-b540-09eff50d8125"
      },
      "source": [
        "location = []\n",
        "for i in range(len(data_frame)):\n",
        "    loc = str(data_frame.iloc[i][0])+\", \"+str(data_frame.iloc[i][1])\n",
        "    loc = str(geolocator.reverse(loc))\n",
        "    loc = loc.split(\", \")[-1]\n",
        "    location.append(loc)"
      ],
      "execution_count": 0,
      "outputs": [
        {
          "output_type": "error",
          "ename": "GeocoderUnavailable",
          "evalue": "Service not available",
          "traceback": [
            "\u001b[0;31m--------------------------------------------------\u001b[0m",
            "\u001b[0;31mOSError\u001b[0m          Traceback (most recent call last)",
            "\u001b[0;32m~/anaconda3/lib/python3.6/urllib/request.py\u001b[0m in \u001b[0;36mdo_open\u001b[0;34m(self, http_class, req, **http_conn_args)\u001b[0m\n\u001b[1;32m   1317\u001b[0m                 h.request(req.get_method(), req.selector, req.data, headers,\n\u001b[0;32m-> 1318\u001b[0;31m                           encode_chunked=req.has_header('Transfer-encoding'))\n\u001b[0m\u001b[1;32m   1319\u001b[0m             \u001b[0;32mexcept\u001b[0m \u001b[0mOSError\u001b[0m \u001b[0;32mas\u001b[0m \u001b[0merr\u001b[0m\u001b[0;34m:\u001b[0m \u001b[0;31m# timeout error\u001b[0m\u001b[0;34m\u001b[0m\u001b[0m\n",
            "\u001b[0;32m~/anaconda3/lib/python3.6/http/client.py\u001b[0m in \u001b[0;36mrequest\u001b[0;34m(self, method, url, body, headers, encode_chunked)\u001b[0m\n\u001b[1;32m   1238\u001b[0m         \u001b[0;34m\"\"\"Send a complete request to the server.\"\"\"\u001b[0m\u001b[0;34m\u001b[0m\u001b[0m\n\u001b[0;32m-> 1239\u001b[0;31m         \u001b[0mself\u001b[0m\u001b[0;34m.\u001b[0m\u001b[0m_send_request\u001b[0m\u001b[0;34m(\u001b[0m\u001b[0mmethod\u001b[0m\u001b[0;34m,\u001b[0m \u001b[0murl\u001b[0m\u001b[0;34m,\u001b[0m \u001b[0mbody\u001b[0m\u001b[0;34m,\u001b[0m \u001b[0mheaders\u001b[0m\u001b[0;34m,\u001b[0m \u001b[0mencode_chunked\u001b[0m\u001b[0;34m)\u001b[0m\u001b[0;34m\u001b[0m\u001b[0m\n\u001b[0m\u001b[1;32m   1240\u001b[0m \u001b[0;34m\u001b[0m\u001b[0m\n",
            "\u001b[0;32m~/anaconda3/lib/python3.6/http/client.py\u001b[0m in \u001b[0;36m_send_request\u001b[0;34m(self, method, url, body, headers, encode_chunked)\u001b[0m\n\u001b[1;32m   1284\u001b[0m             \u001b[0mbody\u001b[0m \u001b[0;34m=\u001b[0m \u001b[0m_encode\u001b[0m\u001b[0;34m(\u001b[0m\u001b[0mbody\u001b[0m\u001b[0;34m,\u001b[0m \u001b[0;34m'body'\u001b[0m\u001b[0;34m)\u001b[0m\u001b[0;34m\u001b[0m\u001b[0m\n\u001b[0;32m-> 1285\u001b[0;31m         \u001b[0mself\u001b[0m\u001b[0;34m.\u001b[0m\u001b[0mendheaders\u001b[0m\u001b[0;34m(\u001b[0m\u001b[0mbody\u001b[0m\u001b[0;34m,\u001b[0m \u001b[0mencode_chunked\u001b[0m\u001b[0;34m=\u001b[0m\u001b[0mencode_chunked\u001b[0m\u001b[0;34m)\u001b[0m\u001b[0;34m\u001b[0m\u001b[0m\n\u001b[0m\u001b[1;32m   1286\u001b[0m \u001b[0;34m\u001b[0m\u001b[0m\n",
            "\u001b[0;32m~/anaconda3/lib/python3.6/http/client.py\u001b[0m in \u001b[0;36mendheaders\u001b[0;34m(self, message_body, encode_chunked)\u001b[0m\n\u001b[1;32m   1233\u001b[0m             \u001b[0;32mraise\u001b[0m \u001b[0mCannotSendHeader\u001b[0m\u001b[0;34m(\u001b[0m\u001b[0;34m)\u001b[0m\u001b[0;34m\u001b[0m\u001b[0m\n\u001b[0;32m-> 1234\u001b[0;31m         \u001b[0mself\u001b[0m\u001b[0;34m.\u001b[0m\u001b[0m_send_output\u001b[0m\u001b[0;34m(\u001b[0m\u001b[0mmessage_body\u001b[0m\u001b[0;34m,\u001b[0m \u001b[0mencode_chunked\u001b[0m\u001b[0;34m=\u001b[0m\u001b[0mencode_chunked\u001b[0m\u001b[0;34m)\u001b[0m\u001b[0;34m\u001b[0m\u001b[0m\n\u001b[0m\u001b[1;32m   1235\u001b[0m \u001b[0;34m\u001b[0m\u001b[0m\n",
            "\u001b[0;32m~/anaconda3/lib/python3.6/http/client.py\u001b[0m in \u001b[0;36m_send_output\u001b[0;34m(self, message_body, encode_chunked)\u001b[0m\n\u001b[1;32m   1025\u001b[0m         \u001b[0;32mdel\u001b[0m \u001b[0mself\u001b[0m\u001b[0;34m.\u001b[0m\u001b[0m_buffer\u001b[0m\u001b[0;34m[\u001b[0m\u001b[0;34m:\u001b[0m\u001b[0;34m]\u001b[0m\u001b[0;34m\u001b[0m\u001b[0m\n\u001b[0;32m-> 1026\u001b[0;31m         \u001b[0mself\u001b[0m\u001b[0;34m.\u001b[0m\u001b[0msend\u001b[0m\u001b[0;34m(\u001b[0m\u001b[0mmsg\u001b[0m\u001b[0;34m)\u001b[0m\u001b[0;34m\u001b[0m\u001b[0m\n\u001b[0m\u001b[1;32m   1027\u001b[0m \u001b[0;34m\u001b[0m\u001b[0m\n",
            "\u001b[0;32m~/anaconda3/lib/python3.6/http/client.py\u001b[0m in \u001b[0;36msend\u001b[0;34m(self, data)\u001b[0m\n\u001b[1;32m    963\u001b[0m             \u001b[0;32mif\u001b[0m \u001b[0mself\u001b[0m\u001b[0;34m.\u001b[0m\u001b[0mauto_open\u001b[0m\u001b[0;34m:\u001b[0m\u001b[0;34m\u001b[0m\u001b[0m\n\u001b[0;32m--> 964\u001b[0;31m                 \u001b[0mself\u001b[0m\u001b[0;34m.\u001b[0m\u001b[0mconnect\u001b[0m\u001b[0;34m(\u001b[0m\u001b[0;34m)\u001b[0m\u001b[0;34m\u001b[0m\u001b[0m\n\u001b[0m\u001b[1;32m    965\u001b[0m             \u001b[0;32melse\u001b[0m\u001b[0;34m:\u001b[0m\u001b[0;34m\u001b[0m\u001b[0m\n",
            "\u001b[0;32m~/anaconda3/lib/python3.6/http/client.py\u001b[0m in \u001b[0;36mconnect\u001b[0;34m(self)\u001b[0m\n\u001b[1;32m   1391\u001b[0m \u001b[0;34m\u001b[0m\u001b[0m\n\u001b[0;32m-> 1392\u001b[0;31m             \u001b[0msuper\u001b[0m\u001b[0;34m(\u001b[0m\u001b[0;34m)\u001b[0m\u001b[0;34m.\u001b[0m\u001b[0mconnect\u001b[0m\u001b[0;34m(\u001b[0m\u001b[0;34m)\u001b[0m\u001b[0;34m\u001b[0m\u001b[0m\n\u001b[0m\u001b[1;32m   1393\u001b[0m \u001b[0;34m\u001b[0m\u001b[0m\n",
            "\u001b[0;32m~/anaconda3/lib/python3.6/http/client.py\u001b[0m in \u001b[0;36mconnect\u001b[0;34m(self)\u001b[0m\n\u001b[1;32m    935\u001b[0m         self.sock = self._create_connection(\n\u001b[0;32m--> 936\u001b[0;31m             (self.host,self.port), self.timeout, self.source_address)\n\u001b[0m\u001b[1;32m    937\u001b[0m         \u001b[0mself\u001b[0m\u001b[0;34m.\u001b[0m\u001b[0msock\u001b[0m\u001b[0;34m.\u001b[0m\u001b[0msetsockopt\u001b[0m\u001b[0;34m(\u001b[0m\u001b[0msocket\u001b[0m\u001b[0;34m.\u001b[0m\u001b[0mIPPROTO_TCP\u001b[0m\u001b[0;34m,\u001b[0m \u001b[0msocket\u001b[0m\u001b[0;34m.\u001b[0m\u001b[0mTCP_NODELAY\u001b[0m\u001b[0;34m,\u001b[0m \u001b[0;36m1\u001b[0m\u001b[0;34m)\u001b[0m\u001b[0;34m\u001b[0m\u001b[0m\n",
            "\u001b[0;32m~/anaconda3/lib/python3.6/socket.py\u001b[0m in \u001b[0;36mcreate_connection\u001b[0;34m(address, timeout, source_address)\u001b[0m\n\u001b[1;32m    723\u001b[0m     \u001b[0;32mif\u001b[0m \u001b[0merr\u001b[0m \u001b[0;32mis\u001b[0m \u001b[0;32mnot\u001b[0m \u001b[0;32mNone\u001b[0m\u001b[0;34m:\u001b[0m\u001b[0;34m\u001b[0m\u001b[0m\n\u001b[0;32m--> 724\u001b[0;31m         \u001b[0;32mraise\u001b[0m \u001b[0merr\u001b[0m\u001b[0;34m\u001b[0m\u001b[0m\n\u001b[0m\u001b[1;32m    725\u001b[0m     \u001b[0;32melse\u001b[0m\u001b[0;34m:\u001b[0m\u001b[0;34m\u001b[0m\u001b[0m\n",
            "\u001b[0;32m~/anaconda3/lib/python3.6/socket.py\u001b[0m in \u001b[0;36mcreate_connection\u001b[0;34m(address, timeout, source_address)\u001b[0m\n\u001b[1;32m    712\u001b[0m                 \u001b[0msock\u001b[0m\u001b[0;34m.\u001b[0m\u001b[0mbind\u001b[0m\u001b[0;34m(\u001b[0m\u001b[0msource_address\u001b[0m\u001b[0;34m)\u001b[0m\u001b[0;34m\u001b[0m\u001b[0m\n\u001b[0;32m--> 713\u001b[0;31m             \u001b[0msock\u001b[0m\u001b[0;34m.\u001b[0m\u001b[0mconnect\u001b[0m\u001b[0;34m(\u001b[0m\u001b[0msa\u001b[0m\u001b[0;34m)\u001b[0m\u001b[0;34m\u001b[0m\u001b[0m\n\u001b[0m\u001b[1;32m    714\u001b[0m             \u001b[0;31m# Break explicitly a reference cycle\u001b[0m\u001b[0;34m\u001b[0m\u001b[0;34m\u001b[0m\u001b[0m\n",
            "\u001b[0;31mOSError\u001b[0m: [Errno 101] Network is unreachable",
            "\nDuring handling of the above exception, another exception occurred:\n",
            "\u001b[0;31mURLError\u001b[0m         Traceback (most recent call last)",
            "\u001b[0;32m~/anaconda3/lib/python3.6/site-packages/geopy/geocoders/base.py\u001b[0m in \u001b[0;36m_call_geocoder\u001b[0;34m(self, url, timeout, raw, requester, deserializer, **kwargs)\u001b[0m\n\u001b[1;32m    354\u001b[0m         \u001b[0;32mtry\u001b[0m\u001b[0;34m:\u001b[0m\u001b[0;34m\u001b[0m\u001b[0m\n\u001b[0;32m--> 355\u001b[0;31m             \u001b[0mpage\u001b[0m \u001b[0;34m=\u001b[0m \u001b[0mrequester\u001b[0m\u001b[0;34m(\u001b[0m\u001b[0mreq\u001b[0m\u001b[0;34m,\u001b[0m \u001b[0mtimeout\u001b[0m\u001b[0;34m=\u001b[0m\u001b[0mtimeout\u001b[0m\u001b[0;34m,\u001b[0m \u001b[0;34m**\u001b[0m\u001b[0mkwargs\u001b[0m\u001b[0;34m)\u001b[0m\u001b[0;34m\u001b[0m\u001b[0m\n\u001b[0m\u001b[1;32m    356\u001b[0m         \u001b[0;32mexcept\u001b[0m \u001b[0mException\u001b[0m \u001b[0;32mas\u001b[0m \u001b[0merror\u001b[0m\u001b[0;34m:\u001b[0m\u001b[0;34m\u001b[0m\u001b[0m\n",
            "\u001b[0;32m~/anaconda3/lib/python3.6/urllib/request.py\u001b[0m in \u001b[0;36mopen\u001b[0;34m(self, fullurl, data, timeout)\u001b[0m\n\u001b[1;32m    525\u001b[0m \u001b[0;34m\u001b[0m\u001b[0m\n\u001b[0;32m--> 526\u001b[0;31m         \u001b[0mresponse\u001b[0m \u001b[0;34m=\u001b[0m \u001b[0mself\u001b[0m\u001b[0;34m.\u001b[0m\u001b[0m_open\u001b[0m\u001b[0;34m(\u001b[0m\u001b[0mreq\u001b[0m\u001b[0;34m,\u001b[0m \u001b[0mdata\u001b[0m\u001b[0;34m)\u001b[0m\u001b[0;34m\u001b[0m\u001b[0m\n\u001b[0m\u001b[1;32m    527\u001b[0m \u001b[0;34m\u001b[0m\u001b[0m\n",
            "\u001b[0;32m~/anaconda3/lib/python3.6/urllib/request.py\u001b[0m in \u001b[0;36m_open\u001b[0;34m(self, req, data)\u001b[0m\n\u001b[1;32m    543\u001b[0m         result = self._call_chain(self.handle_open, protocol, protocol +\n\u001b[0;32m--> 544\u001b[0;31m                                   '_open', req)\n\u001b[0m\u001b[1;32m    545\u001b[0m         \u001b[0;32mif\u001b[0m \u001b[0mresult\u001b[0m\u001b[0;34m:\u001b[0m\u001b[0;34m\u001b[0m\u001b[0m\n",
            "\u001b[0;32m~/anaconda3/lib/python3.6/urllib/request.py\u001b[0m in \u001b[0;36m_call_chain\u001b[0;34m(self, chain, kind, meth_name, *args)\u001b[0m\n\u001b[1;32m    503\u001b[0m             \u001b[0mfunc\u001b[0m \u001b[0;34m=\u001b[0m \u001b[0mgetattr\u001b[0m\u001b[0;34m(\u001b[0m\u001b[0mhandler\u001b[0m\u001b[0;34m,\u001b[0m \u001b[0mmeth_name\u001b[0m\u001b[0;34m)\u001b[0m\u001b[0;34m\u001b[0m\u001b[0m\n\u001b[0;32m--> 504\u001b[0;31m             \u001b[0mresult\u001b[0m \u001b[0;34m=\u001b[0m \u001b[0mfunc\u001b[0m\u001b[0;34m(\u001b[0m\u001b[0;34m*\u001b[0m\u001b[0margs\u001b[0m\u001b[0;34m)\u001b[0m\u001b[0;34m\u001b[0m\u001b[0m\n\u001b[0m\u001b[1;32m    505\u001b[0m             \u001b[0;32mif\u001b[0m \u001b[0mresult\u001b[0m \u001b[0;32mis\u001b[0m \u001b[0;32mnot\u001b[0m \u001b[0;32mNone\u001b[0m\u001b[0;34m:\u001b[0m\u001b[0;34m\u001b[0m\u001b[0m\n",
            "\u001b[0;32m~/anaconda3/lib/python3.6/urllib/request.py\u001b[0m in \u001b[0;36mhttps_open\u001b[0;34m(self, req)\u001b[0m\n\u001b[1;32m   1360\u001b[0m             return self.do_open(http.client.HTTPSConnection, req,\n\u001b[0;32m-> 1361\u001b[0;31m                 context=self._context, check_hostname=self._check_hostname)\n\u001b[0m\u001b[1;32m   1362\u001b[0m \u001b[0;34m\u001b[0m\u001b[0m\n",
            "\u001b[0;32m~/anaconda3/lib/python3.6/urllib/request.py\u001b[0m in \u001b[0;36mdo_open\u001b[0;34m(self, http_class, req, **http_conn_args)\u001b[0m\n\u001b[1;32m   1319\u001b[0m             \u001b[0;32mexcept\u001b[0m \u001b[0mOSError\u001b[0m \u001b[0;32mas\u001b[0m \u001b[0merr\u001b[0m\u001b[0;34m:\u001b[0m \u001b[0;31m# timeout error\u001b[0m\u001b[0;34m\u001b[0m\u001b[0m\n\u001b[0;32m-> 1320\u001b[0;31m                 \u001b[0;32mraise\u001b[0m \u001b[0mURLError\u001b[0m\u001b[0;34m(\u001b[0m\u001b[0merr\u001b[0m\u001b[0;34m)\u001b[0m\u001b[0;34m\u001b[0m\u001b[0m\n\u001b[0m\u001b[1;32m   1321\u001b[0m             \u001b[0mr\u001b[0m \u001b[0;34m=\u001b[0m \u001b[0mh\u001b[0m\u001b[0;34m.\u001b[0m\u001b[0mgetresponse\u001b[0m\u001b[0;34m(\u001b[0m\u001b[0;34m)\u001b[0m\u001b[0;34m\u001b[0m\u001b[0m\n",
            "\u001b[0;31mURLError\u001b[0m: <urlopen error [Errno 101] Network is unreachable>",
            "\nDuring handling of the above exception, another exception occurred:\n",
            "\u001b[0;31mGeocoderUnavailable\u001b[0mTraceback (most recent call last)",
            "\u001b[0;32m<ipython-input-41-fa15a788bb9f>\u001b[0m in \u001b[0;36m<module>\u001b[0;34m()\u001b[0m\n\u001b[1;32m      2\u001b[0m \u001b[0;32mfor\u001b[0m \u001b[0mi\u001b[0m \u001b[0;32min\u001b[0m \u001b[0mrange\u001b[0m\u001b[0;34m(\u001b[0m\u001b[0mlen\u001b[0m\u001b[0;34m(\u001b[0m\u001b[0mdata_frame\u001b[0m\u001b[0;34m)\u001b[0m\u001b[0;34m)\u001b[0m\u001b[0;34m:\u001b[0m\u001b[0;34m\u001b[0m\u001b[0m\n\u001b[1;32m      3\u001b[0m     \u001b[0mloc\u001b[0m \u001b[0;34m=\u001b[0m \u001b[0mstr\u001b[0m\u001b[0;34m(\u001b[0m\u001b[0mdata_frame\u001b[0m\u001b[0;34m.\u001b[0m\u001b[0miloc\u001b[0m\u001b[0;34m[\u001b[0m\u001b[0mi\u001b[0m\u001b[0;34m]\u001b[0m\u001b[0;34m[\u001b[0m\u001b[0;36m0\u001b[0m\u001b[0;34m]\u001b[0m\u001b[0;34m)\u001b[0m\u001b[0;34m+\u001b[0m\u001b[0;34m\", \"\u001b[0m\u001b[0;34m+\u001b[0m\u001b[0mstr\u001b[0m\u001b[0;34m(\u001b[0m\u001b[0mdata_frame\u001b[0m\u001b[0;34m.\u001b[0m\u001b[0miloc\u001b[0m\u001b[0;34m[\u001b[0m\u001b[0mi\u001b[0m\u001b[0;34m]\u001b[0m\u001b[0;34m[\u001b[0m\u001b[0;36m1\u001b[0m\u001b[0;34m]\u001b[0m\u001b[0;34m)\u001b[0m\u001b[0;34m\u001b[0m\u001b[0m\n\u001b[0;32m----> 4\u001b[0;31m     \u001b[0mloc\u001b[0m \u001b[0;34m=\u001b[0m \u001b[0mstr\u001b[0m\u001b[0;34m(\u001b[0m\u001b[0mgeolocator\u001b[0m\u001b[0;34m.\u001b[0m\u001b[0mreverse\u001b[0m\u001b[0;34m(\u001b[0m\u001b[0mloc\u001b[0m\u001b[0;34m)\u001b[0m\u001b[0;34m)\u001b[0m\u001b[0;34m\u001b[0m\u001b[0m\n\u001b[0m\u001b[1;32m      5\u001b[0m     \u001b[0mloc\u001b[0m \u001b[0;34m=\u001b[0m \u001b[0mloc\u001b[0m\u001b[0;34m.\u001b[0m\u001b[0msplit\u001b[0m\u001b[0;34m(\u001b[0m\u001b[0;34m\", \"\u001b[0m\u001b[0;34m)\u001b[0m\u001b[0;34m[\u001b[0m\u001b[0;34m-\u001b[0m\u001b[0;36m1\u001b[0m\u001b[0;34m]\u001b[0m\u001b[0;34m\u001b[0m\u001b[0m\n\u001b[1;32m      6\u001b[0m     \u001b[0mlocation\u001b[0m\u001b[0;34m.\u001b[0m\u001b[0mappend\u001b[0m\u001b[0;34m(\u001b[0m\u001b[0mloc\u001b[0m\u001b[0;34m)\u001b[0m\u001b[0;34m\u001b[0m\u001b[0m\n",
            "\u001b[0;32m~/anaconda3/lib/python3.6/site-packages/geopy/geocoders/osm.py\u001b[0m in \u001b[0;36mreverse\u001b[0;34m(self, query, exactly_one, timeout, language, addressdetails)\u001b[0m\n\u001b[1;32m    466\u001b[0m \u001b[0;34m\u001b[0m\u001b[0m\n\u001b[1;32m    467\u001b[0m         return self._parse_json(\n\u001b[0;32m--> 468\u001b[0;31m             \u001b[0mself\u001b[0m\u001b[0;34m.\u001b[0m\u001b[0m_call_geocoder\u001b[0m\u001b[0;34m(\u001b[0m\u001b[0murl\u001b[0m\u001b[0;34m,\u001b[0m \u001b[0mtimeout\u001b[0m\u001b[0;34m=\u001b[0m\u001b[0mtimeout\u001b[0m\u001b[0;34m)\u001b[0m\u001b[0;34m,\u001b[0m \u001b[0mexactly_one\u001b[0m\u001b[0;34m\u001b[0m\u001b[0m\n\u001b[0m\u001b[1;32m    469\u001b[0m         )\n\u001b[1;32m    470\u001b[0m \u001b[0;34m\u001b[0m\u001b[0m\n",
            "\u001b[0;32m~/anaconda3/lib/python3.6/site-packages/geopy/geocoders/base.py\u001b[0m in \u001b[0;36m_call_geocoder\u001b[0;34m(self, url, timeout, raw, requester, deserializer, **kwargs)\u001b[0m\n\u001b[1;32m    378\u001b[0m                     \u001b[0;32mraise\u001b[0m \u001b[0mGeocoderTimedOut\u001b[0m\u001b[0;34m(\u001b[0m\u001b[0;34m'Service timed out'\u001b[0m\u001b[0;34m)\u001b[0m\u001b[0;34m\u001b[0m\u001b[0m\n\u001b[1;32m    379\u001b[0m                 \u001b[0;32melif\u001b[0m \u001b[0;34m\"unreachable\"\u001b[0m \u001b[0;32min\u001b[0m \u001b[0mmessage\u001b[0m\u001b[0;34m:\u001b[0m\u001b[0;34m\u001b[0m\u001b[0m\n\u001b[0;32m--> 380\u001b[0;31m                     \u001b[0;32mraise\u001b[0m \u001b[0mGeocoderUnavailable\u001b[0m\u001b[0;34m(\u001b[0m\u001b[0;34m'Service not available'\u001b[0m\u001b[0;34m)\u001b[0m\u001b[0;34m\u001b[0m\u001b[0m\n\u001b[0m\u001b[1;32m    381\u001b[0m             \u001b[0;32melif\u001b[0m \u001b[0misinstance\u001b[0m\u001b[0;34m(\u001b[0m\u001b[0merror\u001b[0m\u001b[0;34m,\u001b[0m \u001b[0mSocketTimeout\u001b[0m\u001b[0;34m)\u001b[0m\u001b[0;34m:\u001b[0m\u001b[0;34m\u001b[0m\u001b[0m\n\u001b[1;32m    382\u001b[0m                 \u001b[0;32mraise\u001b[0m \u001b[0mGeocoderTimedOut\u001b[0m\u001b[0;34m(\u001b[0m\u001b[0;34m'Service timed out'\u001b[0m\u001b[0;34m)\u001b[0m\u001b[0;34m\u001b[0m\u001b[0m\n",
            "\u001b[0;31mGeocoderUnavailable\u001b[0m: Service not available"
          ]
        }
      ]
    },
    {
      "cell_type": "code",
      "metadata": {
        "id": "z9zspq6Qwkdk",
        "colab_type": "code",
        "colab": {}
      },
      "source": [
        "data_frame['country'] = location if location == 'United States of America'"
      ],
      "execution_count": 0,
      "outputs": []
    },
    {
      "cell_type": "code",
      "metadata": {
        "id": "jf4Vey0awkdt",
        "colab_type": "code",
        "colab": {}
      },
      "source": [
        "data_frame['score'] = df['score_sentiment']"
      ],
      "execution_count": 0,
      "outputs": []
    },
    {
      "cell_type": "code",
      "metadata": {
        "id": "1bSW_rJOwkd2",
        "colab_type": "code",
        "colab": {}
      },
      "source": [
        "sns.set_style(\"darkgrid\")\n",
        "x = data_frame['country'].value_counts(1).head(10)\n",
        "x.plot(kind='bar',figsize=(10,6),fontsize=13,color='C2')\n",
        "plt.ylabel('% of Total Tweets', fontsize=13)\n",
        "plt.xlabel('Language', fontsize=13)"
      ],
      "execution_count": 0,
      "outputs": []
    },
    {
      "cell_type": "code",
      "metadata": {
        "id": "mo0YOJrnwkd9",
        "colab_type": "code",
        "colab": {}
      },
      "source": [
        ""
      ],
      "execution_count": 0,
      "outputs": []
    },
    {
      "cell_type": "code",
      "metadata": {
        "id": "sn4jH1O8wkeE",
        "colab_type": "code",
        "colab": {}
      },
      "source": [
        "#data_frame = data_frame['country'] == usa"
      ],
      "execution_count": 0,
      "outputs": []
    },
    {
      "cell_type": "code",
      "metadata": {
        "id": "sBh5yzIlwkeK",
        "colab_type": "code",
        "colab": {}
      },
      "source": [
        "data_frame"
      ],
      "execution_count": 0,
      "outputs": []
    },
    {
      "cell_type": "code",
      "metadata": {
        "id": "H2lfO-4rwkeR",
        "colab_type": "code",
        "colab": {}
      },
      "source": [
        "url = 'https://raw.githubusercontent.com/python-visualization/folium/master/examples/data'\n",
        "country_shapes = f'{url}/world-countries.json'"
      ],
      "execution_count": 0,
      "outputs": []
    },
    {
      "cell_type": "code",
      "metadata": {
        "id": "AB2omzCUwkea",
        "colab_type": "code",
        "colab": {}
      },
      "source": [
        "the_map = folium.Map(tiles=\"cartodbpositron\")\n",
        "the_map.choropleth(\n",
        "    geo_data=country_shapes,\n",
        "    name='choropleth',\n",
        "    data=data_frame,\n",
        "    columns=['country', 'score'],\n",
        "    key_on='feature.properties.name',\n",
        "    fill_color='YlGn',\n",
        "    nan_fill_color='white',\n",
        "    fill_opacity=0.7,\n",
        "    line_opacity=0.2,\n",
        ")\n",
        "the_map"
      ],
      "execution_count": 0,
      "outputs": []
    }
  ]
}