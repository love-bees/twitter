{
  "nbformat": 4,
  "nbformat_minor": 0,
  "metadata": {
    "kernelspec": {
      "display_name": "Python 3",
      "language": "python",
      "name": "python3"
    },
    "language_info": {
      "codemirror_mode": {
        "name": "ipython",
        "version": 3
      },
      "file_extension": ".py",
      "mimetype": "text/x-python",
      "name": "python",
      "nbconvert_exporter": "python",
      "pygments_lexer": "ipython3",
      "version": "3.6.5"
    },
    "colab": {
      "name": "data_cleanup.ipynb",
      "provenance": [],
      "include_colab_link": true
    }
  },
  "cells": [
    {
      "cell_type": "markdown",
      "metadata": {
        "id": "view-in-github",
        "colab_type": "text"
      },
      "source": [
        "<a href=\"https://colab.research.google.com/github/love-bees/twitter/blob/master/data_cleanup.ipynb\" target=\"_parent\"><img src=\"https://colab.research.google.com/assets/colab-badge.svg\" alt=\"Open In Colab\"/></a>"
      ]
    },
    {
      "cell_type": "code",
      "metadata": {
        "id": "Ywvei-4dwkVZ",
        "colab_type": "code",
        "colab": {
          "base_uri": "https://localhost:8080/",
          "height": 442
        },
        "outputId": "1afb3f71-5a83-45ca-a6b4-7846239c3812"
      },
      "source": [
        "import pandas as pd\n",
        "\n",
        "data = pd.read_csv('data.csv', encoding='utf-8')\n",
        "data.head()"
      ],
      "execution_count": 67,
      "outputs": [
        {
          "output_type": "execute_result",
          "data": {
            "text/html": [
              "<div>\n",
              "<style scoped>\n",
              "    .dataframe tbody tr th:only-of-type {\n",
              "        vertical-align: middle;\n",
              "    }\n",
              "\n",
              "    .dataframe tbody tr th {\n",
              "        vertical-align: top;\n",
              "    }\n",
              "\n",
              "    .dataframe thead th {\n",
              "        text-align: right;\n",
              "    }\n",
              "</style>\n",
              "<table border=\"1\" class=\"dataframe\">\n",
              "  <thead>\n",
              "    <tr style=\"text-align: right;\">\n",
              "      <th></th>\n",
              "      <th>1248318643848568833</th>\n",
              "      <th>2020-04-09 18:35:31</th>\n",
              "      <th>41.34473, 1.6992</th>\n",
              "      <th>ca</th>\n",
              "      <th>b'teletreball teletreballdocent teletreballconfinades covid_19 sarscov2 joemfotocasa'</th>\n",
              "      <th>b'Fins el monyo del #teletreball  #teletreballdocent  #teletreballconfinades de la #covid_19 #sarscov2   i del #joemfotocasa !!! @ Vilafranca del Pened\\xc3\\xa8s https://t.co/xngXtLSnkw'</th>\n",
              "    </tr>\n",
              "  </thead>\n",
              "  <tbody>\n",
              "    <tr>\n",
              "      <th>0</th>\n",
              "      <td>1248318627935182849</td>\n",
              "      <td>2020-04-09 18:35:28</td>\n",
              "      <td>6.05861, -75.5031</td>\n",
              "      <td>es</td>\n",
              "      <td>b'jardin jardines huerta esposa love enamorado...</td>\n",
              "      <td>b'Ella! Siempre ella! Qui\\xc3\\xa9n no se enamo...</td>\n",
              "    </tr>\n",
              "    <tr>\n",
              "      <th>1</th>\n",
              "      <td>1248318622113693698</td>\n",
              "      <td>2020-04-09 18:35:26</td>\n",
              "      <td>42.9607521, -80.05056563</td>\n",
              "      <td>en</td>\n",
              "      <td>b''</td>\n",
              "      <td>b'Hey everyone , won\\xe2\\x80\\x99t be streaming...</td>\n",
              "    </tr>\n",
              "    <tr>\n",
              "      <th>2</th>\n",
              "      <td>1248318523908198400</td>\n",
              "      <td>2020-04-09 18:35:03</td>\n",
              "      <td>38.7261, -9.1394</td>\n",
              "      <td>et</td>\n",
              "      <td>b'photodocumentary moon exterior isolation cov...</td>\n",
              "      <td>b'M O O N\\n#photodocumentary\\n#moon #exterior\\...</td>\n",
              "    </tr>\n",
              "    <tr>\n",
              "      <th>3</th>\n",
              "      <td>1248318383763972100</td>\n",
              "      <td>2020-04-09 18:34:29</td>\n",
              "      <td>53.55, -3.05</td>\n",
              "      <td>en</td>\n",
              "      <td>b'covid postcovid19 quarantine dogs'</td>\n",
              "      <td>b'\\xf0\\x9f\\xa6\\xaeTop Tip Thursday \\xf0\\x9f\\x9...</td>\n",
              "    </tr>\n",
              "    <tr>\n",
              "      <th>4</th>\n",
              "      <td>1248318271801053185</td>\n",
              "      <td>2020-04-09 18:34:03</td>\n",
              "      <td>18.4596876, -69.9485084</td>\n",
              "      <td>es</td>\n",
              "      <td>b''</td>\n",
              "      <td>b'El bolet\\xc3\\xadn 21 con r\\xc3\\xa9cord de ca...</td>\n",
              "    </tr>\n",
              "  </tbody>\n",
              "</table>\n",
              "</div>"
            ],
            "text/plain": [
              "   1248318643848568833  ... b'Fins el monyo del #teletreball  #teletreballdocent  #teletreballconfinades de la #covid_19 #sarscov2   i del #joemfotocasa !!! @ Vilafranca del Pened\\xc3\\xa8s https://t.co/xngXtLSnkw'\n",
              "0  1248318627935182849  ...  b'Ella! Siempre ella! Qui\\xc3\\xa9n no se enamo...                                                                                                                                       \n",
              "1  1248318622113693698  ...  b'Hey everyone , won\\xe2\\x80\\x99t be streaming...                                                                                                                                       \n",
              "2  1248318523908198400  ...  b'M O O N\\n#photodocumentary\\n#moon #exterior\\...                                                                                                                                       \n",
              "3  1248318383763972100  ...  b'\\xf0\\x9f\\xa6\\xaeTop Tip Thursday \\xf0\\x9f\\x9...                                                                                                                                       \n",
              "4  1248318271801053185  ...  b'El bolet\\xc3\\xadn 21 con r\\xc3\\xa9cord de ca...                                                                                                                                       \n",
              "\n",
              "[5 rows x 6 columns]"
            ]
          },
          "metadata": {
            "tags": []
          },
          "execution_count": 67
        }
      ]
    },
    {
      "cell_type": "code",
      "metadata": {
        "id": "uWKUAjcSkVXB",
        "colab_type": "code",
        "colab": {}
      },
      "source": [
        "data.columns = ['id', 'time', 'geo', 'lang', 'hashtags', 'text']"
      ],
      "execution_count": 68,
      "outputs": []
    },
    {
      "cell_type": "code",
      "metadata": {
        "id": "2x33gTYOwkV2",
        "colab_type": "code",
        "colab": {
          "base_uri": "https://localhost:8080/",
          "height": 441
        },
        "outputId": "23feb085-f97b-49bd-fccd-a4febc0d2a17"
      },
      "source": [
        "import matplotlib.pyplot as plt\n",
        "\n",
        "x = data['lang'].value_counts(1).head(15)\n",
        "x.plot(kind='bar',figsize=(10,6),fontsize=13,color='C1')\n",
        "plt.title('Jezik Tvitera procentualno', fontsize=16)\n",
        "plt.ylabel('% od svih Tvitova', fontsize=13)\n",
        "plt.xlabel('Jezik', fontsize=13)"
      ],
      "execution_count": 69,
      "outputs": [
        {
          "output_type": "execute_result",
          "data": {
            "text/plain": [
              "Text(0.5, 0, 'Jezik')"
            ]
          },
          "metadata": {
            "tags": []
          },
          "execution_count": 69
        },
        {
          "output_type": "display_data",
          "data": {
            "image/png": "[encoded data removed]",
            "text/plain": [
              "<Figure size 720x432 with 1 Axes>"
            ]
          },
          "metadata": {
            "tags": []
          }
        }
      ]
    },
    {
      "cell_type": "code",
      "metadata": {
        "scrolled": true,
        "id": "FLvbmUdhwkWL",
        "colab_type": "code",
        "colab": {}
      },
      "source": [
        "text = []\n",
        "date = []\n",
        "hashes = []\n",
        "geo = []\n",
        "for i, item in enumerate(data['lang']):\n",
        "    if data['lang'][i] == 'en':\n",
        "        text.append(data['text'][i])\n",
        "        date.append(data['time'][i])\n",
        "        hashes.append(data['hashtags'][i])\n",
        "        geo.append(data['geo'][i])"
      ],
      "execution_count": 70,
      "outputs": []
    },
    {
      "cell_type": "code",
      "metadata": {
        "id": "bbaauCLZwkWe",
        "colab_type": "code",
        "colab": {}
      },
      "source": [
        "import re\n",
        "\n",
        "for i in range(len(text)):\n",
        "    try:\n",
        "        text[i] = bytes(text[i][2:-2], 'utf-8').decode('unicode_escape')\n",
        "        hashes[i] = bytes(hashes[i][2:-1], 'utf-8').decode('unicode_escape')\n",
        "        text[i] = re.sub(r'[^\\x00-\\x7F]+','', text[i])\n",
        "        text[i] = text[i][:text[i].index('https://t.co/')]\n",
        "        text[i] = text[i].replace(\"\\n\", '')\n",
        "    except:\n",
        "        continue"
      ],
      "execution_count": 71,
      "outputs": []
    },
    {
      "cell_type": "code",
      "metadata": {
        "id": "vC8Yn-pIwkXo",
        "colab_type": "code",
        "colab": {}
      },
      "source": [
        "df = pd.DataFrame(columns=['datetime','coordinates','hashes', 'text'])\n",
        "df['datetime'], df['coordinates'],df['hashes'], df['text'] = [date, geo, hashes, text]"
      ],
      "execution_count": 72,
      "outputs": []
    },
    {
      "cell_type": "code",
      "metadata": {
        "id": "LXbXNJvIglf5",
        "colab_type": "code",
        "colab": {
          "base_uri": "https://localhost:8080/",
          "height": 289
        },
        "outputId": "54020ea1-7b24-4f3d-a884-a2342058844c"
      },
      "source": [
        "df.head()"
      ],
      "execution_count": 73,
      "outputs": [
        {
          "output_type": "execute_result",
          "data": {
            "text/html": [
              "<div>\n",
              "<style scoped>\n",
              "    .dataframe tbody tr th:only-of-type {\n",
              "        vertical-align: middle;\n",
              "    }\n",
              "\n",
              "    .dataframe tbody tr th {\n",
              "        vertical-align: top;\n",
              "    }\n",
              "\n",
              "    .dataframe thead th {\n",
              "        text-align: right;\n",
              "    }\n",
              "</style>\n",
              "<table border=\"1\" class=\"dataframe\">\n",
              "  <thead>\n",
              "    <tr style=\"text-align: right;\">\n",
              "      <th></th>\n",
              "      <th>datetime</th>\n",
              "      <th>coordinates</th>\n",
              "      <th>hashes</th>\n",
              "      <th>text</th>\n",
              "    </tr>\n",
              "  </thead>\n",
              "  <tbody>\n",
              "    <tr>\n",
              "      <th>0</th>\n",
              "      <td>2020-04-09 18:35:26</td>\n",
              "      <td>42.9607521, -80.05056563</td>\n",
              "      <td></td>\n",
              "      <td>Hey everyone , wont be streaming until this wh...</td>\n",
              "    </tr>\n",
              "    <tr>\n",
              "      <th>1</th>\n",
              "      <td>2020-04-09 18:34:29</td>\n",
              "      <td>53.55, -3.05</td>\n",
              "      <td>covid postcovid19 quarantine dogs</td>\n",
              "      <td>Top Tip Thursday  Once lockdown is over, have ...</td>\n",
              "    </tr>\n",
              "    <tr>\n",
              "      <th>2</th>\n",
              "      <td>2020-04-09 18:48:31</td>\n",
              "      <td>40.89245946, -74.13999694</td>\n",
              "      <td></td>\n",
              "      <td>Palestinian national heroine Bisan Al-Jubeh (u...</td>\n",
              "    </tr>\n",
              "    <tr>\n",
              "      <th>3</th>\n",
              "      <td>2020-04-09 18:48:21</td>\n",
              "      <td>21.31752233, -157.92366028</td>\n",
              "      <td>harley808 zeus808 storm808 lovemydogs thursday...</td>\n",
              "      <td>Thankful Thursday #harley808 #zeus808 #storm80...</td>\n",
              "    </tr>\n",
              "    <tr>\n",
              "      <th>4</th>\n",
              "      <td>2020-04-09 18:47:04</td>\n",
              "      <td>48.47593351, -81.32806152</td>\n",
              "      <td></td>\n",
              "      <td>Neighbourhood getting loud for healthcare work...</td>\n",
              "    </tr>\n",
              "  </tbody>\n",
              "</table>\n",
              "</div>"
            ],
            "text/plain": [
              "              datetime  ...                                               text\n",
              "0  2020-04-09 18:35:26  ...  Hey everyone , wont be streaming until this wh...\n",
              "1  2020-04-09 18:34:29  ...  Top Tip Thursday  Once lockdown is over, have ...\n",
              "2  2020-04-09 18:48:31  ...  Palestinian national heroine Bisan Al-Jubeh (u...\n",
              "3  2020-04-09 18:48:21  ...  Thankful Thursday #harley808 #zeus808 #storm80...\n",
              "4  2020-04-09 18:47:04  ...  Neighbourhood getting loud for healthcare work...\n",
              "\n",
              "[5 rows x 4 columns]"
            ]
          },
          "metadata": {
            "tags": []
          },
          "execution_count": 73
        }
      ]
    },
    {
      "cell_type": "code",
      "metadata": {
        "id": "WSqj9rAYki_L",
        "colab_type": "code",
        "colab": {}
      },
      "source": [
        "df.to_csv('data_cleaned.csv')"
      ],
      "execution_count": 74,
      "outputs": []
    },
    {
      "cell_type": "code",
      "metadata": {
        "id": "UzGv36zulJuj",
        "colab_type": "code",
        "colab": {}
      },
      "source": [
        ""
      ],
      "execution_count": null,
      "outputs": []
    }
  ]
}